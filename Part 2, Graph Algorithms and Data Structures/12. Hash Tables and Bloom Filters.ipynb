{
 "cells": [
  {
   "cell_type": "markdown",
   "metadata": {},
   "source": [
    "## Introduction\n",
    "\n",
    "We will look at Hash Tables and Bloom Filters in the notebook, will implement the them in Python to get some concrete understanding.\n",
    "\n",
    "### Hash Tables\n",
    "\n",
    "Hash Tables store key value pairs. The goal is to allow constant time lookup and insertion. We specifically are interested in the following three operations\n",
    "\n",
    "- Lookup: Given a key, return the corresponding value for the key\n",
    "- Insert: Given a key, insert (or replace) the corresponding value in the table\n",
    "- Delete: Given the key, delete the corresponding value\n",
    "\n",
    "We know arrays let us insert, lookup and delete in constant time and thus if we can convert our key to an integer value in the array such that there is a 1-1 relation between the key and the value, then we can guarantee a constant time operation at the cost of space.\n",
    "\n",
    "---\n",
    "\n",
    "**Quiz 12.1**\n",
    "\n",
    "Suppose all our strings are 25 length strings and we assume there are just lower case english alphabets in the key, then we have a $26^{25}$ possible combinations. Such large array is impractical.\n",
    "\n",
    "---\n",
    "\n",
    "Continuing with above case, suppose U is the universal set, containing all possible strings of length 25 and S be the subset of keys we intend to insert in the Hash Table. We saw how creating one large array for all possible keys in the universe U is prohibitive, we would thus need a way to consume linear space, in the order of $\\mid S \\mid$ and still get $\\theta(1)$ complexity for all operations\n",
    "\n",
    "Let us now implement  2-Sum problem in three ways\n",
    "\n",
    "- 1: Naive, Linear scan of array for all numbers with complexity $\\theta(n^2)$\n",
    "- 2: Sort and Binary search with complexity $\\theta(nlogn)$\n",
    "- 3: Use hash map for lookup with complexity $\\theta(n)$\n",
    "\n"
   ]
  },
  {
   "cell_type": "code",
   "execution_count": 6,
   "metadata": {},
   "outputs": [],
   "source": [
    "def naive_2sum(arr, expected_sum):\n",
    "    for i, n1 in enumerate(arr):\n",
    "        expectedn2 = expected_sum - n1\n",
    "        for idx in range(i):\n",
    "            n2 = arr[idx]\n",
    "            if n2 == expectedn2:\n",
    "                return \"yes\"\n",
    "            \n",
    "    return \"no\"\n",
    "\n",
    "def better_2sum(arr, expected_sum):\n",
    "    import bisect\n",
    "    arr.sort()\n",
    "    \n",
    "    # Binary search the array to see if the provided number exists in arr\n",
    "    # runs in O(log n) time\n",
    "    def is_present(num, max_idx):\n",
    "        idx = bisect.bisect_left(arr, num, lo = 0, hi = max_idx)\n",
    "        return idx != max_idx and arr[idx] == num\n",
    "    \n",
    "    for idx, n1 in enumerate(arr):\n",
    "        expectedn2 = expected_sum - n1\n",
    "        # Search in all the numbers we have seen so far exclusing the current to avoid \n",
    "        # double counting the number\n",
    "        if is_present(expectedn2, idx):\n",
    "            return \"yes\"\n",
    "        \n",
    "    return \"no\"\n",
    "\n",
    "def optimal_2sum(arr, expected_sum):\n",
    "    s = set()\n",
    "    # set can essentially be view as a Hash Table with no associated value, we are just interested in the key\n",
    "    for n1 in arr:\n",
    "        expectedn2 = expected_sum - n1 \n",
    "        if expectedn2 in s:\n",
    "            return \"yes\"\n",
    "        s.add(n1)\n",
    "    \n",
    "    return \"no\""
   ]
  },
  {
   "cell_type": "markdown",
   "metadata": {},
   "source": [
    "Lets test the above functions"
   ]
  },
  {
   "cell_type": "code",
   "execution_count": 7,
   "metadata": {},
   "outputs": [
    {
     "name": "stdout",
     "output_type": "stream",
     "text": [
      "(naive_2sum, better_2sum, optimal_2sum) yes yes yes\n",
      "(naive_2sum, better_2sum, optimal_2sum) yes yes yes\n",
      "(naive_2sum, better_2sum, optimal_2sum) no no no\n",
      "(naive_2sum, better_2sum, optimal_2sum) no no no\n"
     ]
    }
   ],
   "source": [
    "arr  = [2, 2, 1, 5, 3, 9]\n",
    "\n",
    "# Should return yes as just one match, 1 + 9 = 10\n",
    "print('(naive_2sum, better_2sum, optimal_2sum)', \\\n",
    "            naive_2sum(arr, 10),\\\n",
    "            better_2sum(arr, 10),\\\n",
    "            optimal_2sum(arr, 10))\n",
    "\n",
    "# Should return yes as two numbers match, 2 + 2 and 3 + 1 add to 4\n",
    "print('(naive_2sum, better_2sum, optimal_2sum)', \\\n",
    "            naive_2sum(arr, 4),\\\n",
    "            better_2sum(arr, 4),\\\n",
    "            optimal_2sum(arr, 4))\n",
    "\n",
    "# Should return no as no numbers sum to 100\n",
    "print('(naive_2sum, better_2sum, optimal_2sum)', \\\n",
    "            naive_2sum(arr, 100),\\\n",
    "            better_2sum(arr, 100),\\\n",
    "            optimal_2sum(arr, 100))\n",
    "\n",
    "# Should return no as no two unique number add up to 18\n",
    "print('(naive_2sum, better_2sum, optimal_2sum)', \\\n",
    "            naive_2sum(arr, 18),\\\n",
    "            better_2sum(arr, 18),\\\n",
    "            optimal_2sum(arr, 18))\n"
   ]
  },
  {
   "cell_type": "markdown",
   "metadata": {},
   "source": [
    "This implementation looks ok, lets write a function to read lines from a file and return them as array of integers and a function to test the implementation on the given file"
   ]
  },
  {
   "cell_type": "code",
   "execution_count": 8,
   "metadata": {},
   "outputs": [],
   "source": [
    "def load_(file):\n",
    "    with open(file) as f:\n",
    "        return [int(x.strip()) for x in f.readlines()]\n",
    "\n",
    "    \n",
    "def test(file, interval_start, interval_end, two_sum_impl):\n",
    "    arr = load_(file)\n",
    "    # All targets in range [interval_strt, interval_end], inclusive\n",
    "    return sum(1 for target in range(interval_start, interval_end + 1) if two_sum_impl(arr, target) == 'yes')\n",
    "\n",
    "        "
   ]
  },
  {
   "cell_type": "code",
   "execution_count": 9,
   "metadata": {},
   "outputs": [
    {
     "name": "stdout",
     "output_type": "stream",
     "text": [
      "Result from naive_2sum returned 8 in 3 ms\n",
      "Result from better_2sum returned 8 in 1 ms\n",
      "Result from optimal_2sum returned 8 in 1 ms\n"
     ]
    }
   ],
   "source": [
    "# Try out all functions\n",
    "import time\n",
    "for two_sum_impl in [naive_2sum, better_2sum, optimal_2sum]:\n",
    "    start = int(time.time() * 1000)\n",
    "    res = test('problem12.4test.txt', 3, 10, two_sum_impl)\n",
    "    end = int(time.time() * 1000)\n",
    "    print('Result from', two_sum_impl.__name__, 'returned', res, 'in', (end - start), 'ms')"
   ]
  },
  {
   "cell_type": "markdown",
   "metadata": {},
   "source": [
    "---\n",
    "\n",
    "Ok, the above results seem to work as expected, lets try on the big file now\n",
    "\n",
    "---"
   ]
  },
  {
   "cell_type": "code",
   "execution_count": 10,
   "metadata": {},
   "outputs": [
    {
     "name": "stdout",
     "output_type": "stream",
     "text": [
      "Result from optimal_2sum returned 427 in 7018253 ms\n"
     ]
    }
   ],
   "source": [
    "# Just try linear solution\n",
    "import time\n",
    "\n",
    "start = int(time.time() * 1000)\n",
    "res = test('problem12.4.txt', -10000, 10000, optimal_2sum)\n",
    "end = int(time.time() * 1000)\n",
    "print('Result from optimal_2sum returned', res, 'in', (end - start), 'ms')"
   ]
  },
  {
   "cell_type": "markdown",
   "metadata": {},
   "source": [
    "Well we can see even the linear time solution took close to 2 hours, hopefully the result 427 is correct."
   ]
  },
  {
   "cell_type": "code",
   "execution_count": null,
   "metadata": {},
   "outputs": [],
   "source": []
  },
  {
   "cell_type": "code",
   "execution_count": null,
   "metadata": {},
   "outputs": [],
   "source": []
  },
  {
   "cell_type": "code",
   "execution_count": null,
   "metadata": {},
   "outputs": [],
   "source": []
  }
 ],
 "metadata": {
  "kernelspec": {
   "display_name": "Python 3",
   "language": "python",
   "name": "python3"
  },
  "language_info": {
   "codemirror_mode": {
    "name": "ipython",
    "version": 3
   },
   "file_extension": ".py",
   "mimetype": "text/x-python",
   "name": "python",
   "nbconvert_exporter": "python",
   "pygments_lexer": "ipython3",
   "version": "3.7.7"
  }
 },
 "nbformat": 4,
 "nbformat_minor": 4
}

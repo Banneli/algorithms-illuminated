{
 "cells": [
  {
   "cell_type": "markdown",
   "metadata": {},
   "source": [
    "## Introduction\n",
    "\n",
    "We will look at Hash Tables and Bloom Filters in the notebook, will implement the them in Python to get some concrete understanding.\n",
    "\n",
    "### Hash Tables\n",
    "\n",
    "Hash Tables store key value pairs. The goal is to allow constant time lookup and insertion. We specifically are interested in the following three operations\n",
    "\n",
    "- Lookup: Given a key, return the corresponding value for the key\n",
    "- Insert: Given a key, insert (or replace) the corresponding value in the table\n",
    "- Delete: Given the key, delete the corresponding value\n",
    "\n",
    "We know arrays let us insert, lookup and delete in constant time and thus if we can convert our key to an integer value in the array such that there is a 1-1 relation between the key and the value, then we can guarantee a constant time operation at the cost of space.\n",
    "\n",
    "---\n",
    "\n",
    "**Quiz 12.1**\n",
    "\n",
    "Suppose all our strings are 25 length strings and we assume there are just lower case english alphabets in the key, then we have a $26^{25}$ possible combinations. Such large array is impractical.\n",
    "\n",
    "---\n",
    "\n",
    "Continuing with above case, suppose U is the universal set, containing all possible strings of length 25 and S be the subset of keys we intend to insert in the Hash Table. We saw how creating one large array for all possible keys in the universe U is prohibitive, we would thus need a way to consume linear space, in the order of $\\mid S \\mid$ and still get $\\theta(1)$ complexity for all operations\n",
    "\n",
    "Let us now implement  2-Sum problem in three ways\n",
    "\n",
    "- 1: Naive, Linear scan of array for all numbers with complexity $\\theta(n^2)$\n",
    "- 2: Sort and Binary search with complexity $\\theta(nlogn)$\n",
    "- 3: Use hash map for lookup with complexity $\\theta(n)$\n",
    "\n"
   ]
  },
  {
   "cell_type": "code",
   "execution_count": 1,
   "metadata": {},
   "outputs": [],
   "source": [
    "def naive_2sum(arr, expected_sum):\n",
    "    for i, n1 in enumerate(arr):\n",
    "        expectedn2 = expected_sum - n1\n",
    "        for idx in range(i):\n",
    "            n2 = arr[idx]\n",
    "            if n2 == expectedn2:\n",
    "                return \"yes\"\n",
    "            \n",
    "    return \"no\"\n",
    "\n",
    "def better_2sum(arr, expected_sum):\n",
    "    import bisect\n",
    "    arr.sort()\n",
    "    \n",
    "    # Binary search the array to see if the provided number exists in arr\n",
    "    # runs in O(log n) time\n",
    "    def is_present(num, max_idx):\n",
    "        idx = bisect.bisect_left(arr, num, lo = 0, hi = max_idx)\n",
    "        return idx != max_idx and arr[idx] == num\n",
    "    \n",
    "    for idx, n1 in enumerate(arr):\n",
    "        expectedn2 = expected_sum - n1\n",
    "        # Search in all the numbers we have seen so far exclusing the current to avoid \n",
    "        # double counting the number\n",
    "        if is_present(expectedn2, idx):\n",
    "            return \"yes\"\n",
    "        \n",
    "    return \"no\"\n",
    "\n",
    "def optimal_2sum(arr, expected_sum):\n",
    "    s = set()\n",
    "    # set can essentially be view as a Hash Table with no associated value, we are just interested in the key\n",
    "    for n1 in arr:\n",
    "        expectedn2 = expected_sum - n1 \n",
    "        if expectedn2 in s:\n",
    "            return \"yes\"\n",
    "        s.add(n1)\n",
    "    \n",
    "    return \"no\""
   ]
  },
  {
   "cell_type": "markdown",
   "metadata": {},
   "source": [
    "Lets test the above functions"
   ]
  },
  {
   "cell_type": "code",
   "execution_count": 2,
   "metadata": {},
   "outputs": [
    {
     "name": "stdout",
     "output_type": "stream",
     "text": [
      "(naive_2sum, better_2sum, optimal_2sum) yes yes yes\n",
      "(naive_2sum, better_2sum, optimal_2sum) yes yes yes\n",
      "(naive_2sum, better_2sum, optimal_2sum) no no no\n",
      "(naive_2sum, better_2sum, optimal_2sum) no no no\n"
     ]
    }
   ],
   "source": [
    "arr  = [2, 2, 1, 5, 3, 9]\n",
    "\n",
    "# Should return yes as just one match, 1 + 9 = 10\n",
    "print('(naive_2sum, better_2sum, optimal_2sum)', \\\n",
    "            naive_2sum(arr, 10),\\\n",
    "            better_2sum(arr, 10),\\\n",
    "            optimal_2sum(arr, 10))\n",
    "\n",
    "# Should return yes as two numbers match, 2 + 2 and 3 + 1 add to 4\n",
    "print('(naive_2sum, better_2sum, optimal_2sum)', \\\n",
    "            naive_2sum(arr, 4),\\\n",
    "            better_2sum(arr, 4),\\\n",
    "            optimal_2sum(arr, 4))\n",
    "\n",
    "# Should return no as no numbers sum to 100\n",
    "print('(naive_2sum, better_2sum, optimal_2sum)', \\\n",
    "            naive_2sum(arr, 100),\\\n",
    "            better_2sum(arr, 100),\\\n",
    "            optimal_2sum(arr, 100))\n",
    "\n",
    "# Should return no as no two unique number add up to 18\n",
    "print('(naive_2sum, better_2sum, optimal_2sum)', \\\n",
    "            naive_2sum(arr, 18),\\\n",
    "            better_2sum(arr, 18),\\\n",
    "            optimal_2sum(arr, 18))\n"
   ]
  },
  {
   "cell_type": "markdown",
   "metadata": {},
   "source": [
    "This implementation looks ok, lets write a function to read lines from a file and return them as array of integers and a function to test the implementation on the given file"
   ]
  },
  {
   "cell_type": "code",
   "execution_count": 3,
   "metadata": {},
   "outputs": [],
   "source": [
    "def load_(file):\n",
    "    with open(file) as f:\n",
    "        return [int(x.strip()) for x in f.readlines()]\n",
    "\n",
    "    \n",
    "def test(file, interval_start, interval_end, two_sum_impl):\n",
    "    arr = load_(file)\n",
    "    # All targets in range [interval_strt, interval_end], inclusive\n",
    "    return sum(1 for target in range(interval_start, interval_end + 1) if two_sum_impl(arr, target) == 'yes')\n",
    "\n",
    "        "
   ]
  },
  {
   "cell_type": "code",
   "execution_count": 4,
   "metadata": {},
   "outputs": [
    {
     "name": "stdout",
     "output_type": "stream",
     "text": [
      "Result from naive_2sum returned 8 in 0 ms\n",
      "Result from better_2sum returned 8 in 1 ms\n",
      "Result from optimal_2sum returned 8 in 1 ms\n"
     ]
    }
   ],
   "source": [
    "# Try out all functions\n",
    "import time\n",
    "for two_sum_impl in [naive_2sum, better_2sum, optimal_2sum]:\n",
    "    start = int(time.time() * 1000)\n",
    "    res = test('problem12.4test.txt', 3, 10, two_sum_impl)\n",
    "    end = int(time.time() * 1000)\n",
    "    print('Result from', two_sum_impl.__name__, 'returned', res, 'in', (end - start), 'ms')"
   ]
  },
  {
   "cell_type": "markdown",
   "metadata": {},
   "source": [
    "---\n",
    "\n",
    "Ok, the above results seem to work as expected, lets try on the big file now\n",
    "\n",
    "---"
   ]
  },
  {
   "cell_type": "code",
   "execution_count": 5,
   "metadata": {},
   "outputs": [
    {
     "name": "stdout",
     "output_type": "stream",
     "text": [
      "Result from optimal_2sum returned 427 in 7370780 ms\n",
      "Result from better_2sum returned 427 in 27375272 ms\n"
     ]
    }
   ],
   "source": [
    "# try nlogn and linear solution\n",
    "import time\n",
    "\n",
    "start = int(time.time() * 1000)\n",
    "res = test('problem12.4.txt', -10000, 10000, optimal_2sum)\n",
    "end = int(time.time() * 1000)\n",
    "print('Result from optimal_2sum returned', res, 'in', (end - start), 'ms')\n",
    "\n",
    "start = int(time.time() * 1000)\n",
    "res = test('problem12.4.txt', -10000, 10000, better_2sum)\n",
    "end = int(time.time() * 1000)\n",
    "print('Result from better_2sum returned', res, 'in', (end - start), 'ms')\n"
   ]
  },
  {
   "cell_type": "markdown",
   "metadata": {},
   "source": [
    "Well we can see even the linear time solution took close to 2 hours and the $\\theta(nlogn)$ using binary search close to 7 hours, the result 427 is hopefully correct.\n",
    "\n",
    "---\n",
    "\n",
    "**Quiz 12.2**\n",
    "\n",
    "The solution that does binary search for searching te value takes $\\theta(nlogn)$, each binary search takes $\\theta(logn)$  and we repeat the lookup n times. Look at ``better_2sum`` the implementation\n",
    "\n",
    "---\n",
    "\n",
    "### Hash table implementations\n",
    "\n",
    "Coming back to the two sets of our interest, $\\mid U \\mid$ and $\\mid S \\mid$ for the Universe of all possible values and our keyspace and the subset of our interest. For example, for IPv4 addresses its $2^{32}$ possible values. There are two possible ways to store and retrieve the keys, Arrays and Linked lists, following table summarizes the Space and time complexities\n",
    "\n",
    "|Data Structure|Space Complexity|Time Complexity|\n",
    "|:-------------|-----|--------|\n",
    "|Array|$\\theta({\\mid U \\mid})$|$\\theta(1)$|\n",
    "|Linked List|$\\theta({\\mid S\\mid})$|$\\theta({\\mid S\\mid})$ |\n",
    "\n",
    "As we see above, using array for large universe is impractical, and using linked lists for even moderate sized subset of keys is inefficient for lookup. We need the best of both worlds and following is the complexities we intend to achieve\n",
    "\n",
    "\n",
    "|Data Structure|Space Complexity|Time Complexity|\n",
    "|:-------------|-----|--------|\n",
    "|Hash Table|$\\theta({\\mid S \\mid})$|$\\theta(1)$|\n",
    "\n",
    "Hash tables start by assigning a fixed size array of size $n$ to start with (we will assume its fixed for simplicity, however, real implementations can increase the size of hash table and rehash the keys which is an expensive operation for large set S). Next step is to use a hash function $h \\rightarrow \\{0, 1, 2 ... n - 1\\}$ to map the key to a numeric value between [0, n -1] to store the key and the corresponding value. \n",
    "\n",
    "Given the hash table has size much less than U, and the set S is practically not know before hand in majority of cases, any mapping from S to a numeric value will cause collision, that is, two keys give same hashcode. \n",
    "\n",
    "An interesting problem of Birthday Paradox attempts to find the number of people in a group there is a 50% chance two people have birthday on the same date. The number surprisingly comes pretty low, it is observed that with approximately 23 people which is $1.177 * \\sqrt{365}$, we will expect to see two people having birthday on same date. The proof and explanation can be found at [this](https://betterexplained.com/articles/understanding-the-birthday-paradox/) URL. This also is the answer to quiz 12.3\n",
    "\n",
    "Ok, on a similar lines, given we have a limited size of buckets in a hash table, we expect to see collisions. How do we address these problems, we will look at the couple of ways and start with an option called chaining\n",
    "\n",
    "In chaining, we start building a Linked list in the bucket appending the results to the end of of the linked list in that bucket. Unless all keys end up in same bucket, essentially forming a linked list, We should get a constant time complexlity for lookup. Some optimizations in HashMap in Java, converts the linked list to tree beyond a threshold effectively reducing the lookup time to $\\theta({log(n)})$\n",
    "\n",
    "\n",
    "Lets look at a simple Python implementation of chaining"
   ]
  },
  {
   "cell_type": "code",
   "execution_count": 55,
   "metadata": {},
   "outputs": [],
   "source": [
    "class Entry:\n",
    "    # Stores the key, value and next item in the linked list created in the bucket\n",
    "    #\n",
    "    def __init__(self, key, value):\n",
    "        self.key = key\n",
    "        self.value = value\n",
    "        self.next = None\n",
    "        \n",
    "    def __repr__(self):\n",
    "        if self.key:\n",
    "            return '(' + str(self.key) + ' : ' + str(self.value) + ') -> ' + str(self.next)\n",
    "        else:\n",
    "            return '(None : None)'\n",
    "        \n",
    "        \n",
    "class ChainedHashTable:  \n",
    "    \n",
    "    \n",
    "    def __init__(self, size = 10):\n",
    "        # Dummy entry in the bucket\n",
    "        self.buckets = [Entry(None, None) for _ in range(size)]\n",
    "        self.size = size\n",
    "    \n",
    "    def __bucket__(self, key):\n",
    "        return abs(hash(key)) % self.size\n",
    "    \n",
    "    def put(self, key, value):\n",
    "        #puts a key value pair in the hash table, key has to be a non None value\n",
    "        if key:\n",
    "            # latest entry in the bucket is the stored in bucket, this enables\n",
    "            # constant time insertion as we get the tail of the linked list directly\n",
    "            bucket = self.__bucket__(key)\n",
    "            entry = Entry(key, value)\n",
    "            entry.next = self.buckets[bucket]\n",
    "            self.buckets[bucket] = entry\n",
    "        else:\n",
    "            raise ValueError('Non None key expected')\n",
    "            \n",
    "    def get(self, key):\n",
    "        val = None\n",
    "        bucket = self.__bucket__(key)\n",
    "        entry = self.buckets[bucket]\n",
    "        while entry:\n",
    "            if key == entry.key:\n",
    "                val = entry.value\n",
    "                break\n",
    "                \n",
    "            entry = entry.next\n",
    "        return val"
   ]
  },
  {
   "cell_type": "code",
   "execution_count": 56,
   "metadata": {},
   "outputs": [
    {
     "name": "stdout",
     "output_type": "stream",
     "text": [
      "Inserting values [10, 20] in ChainedHashTable\n",
      "\n",
      "Buckets of the ChainedHashTable are\n",
      "(14 : 14) -> (None : None)\n",
      "(15 : 15) -> (None : None)\n",
      "(16 : 16) -> (None : None)\n",
      "(17 : 17) -> (10 : 10) -> (None : None)\n",
      "(18 : 18) -> (11 : 11) -> (None : None)\n",
      "(19 : 19) -> (12 : 12) -> (None : None)\n",
      "(20 : 20) -> (13 : 13) -> (None : None)\n",
      "\n",
      "Retrieving values in range [5, 25] from ChainedHashTable\n",
      "Key: 5 -> None\n",
      "Key: 6 -> None\n",
      "Key: 7 -> None\n",
      "Key: 8 -> None\n",
      "Key: 9 -> None\n",
      "Key: 10 -> 10\n",
      "Key: 11 -> 11\n",
      "Key: 12 -> 12\n",
      "Key: 13 -> 13\n",
      "Key: 14 -> 14\n",
      "Key: 15 -> 15\n",
      "Key: 16 -> 16\n",
      "Key: 17 -> 17\n",
      "Key: 18 -> 18\n",
      "Key: 19 -> 19\n",
      "Key: 20 -> 20\n",
      "Key: 21 -> None\n",
      "Key: 22 -> None\n",
      "Key: 23 -> None\n",
      "Key: 24 -> None\n",
      "Key: 25 -> None\n"
     ]
    }
   ],
   "source": [
    "ht = ChainedHashTable(7)\n",
    "print('Inserting values [10, 20] in ChainedHashTable')\n",
    "for i in range(10, 21):\n",
    "    ht.put(i, i)\n",
    "print('\\nBuckets of the ChainedHashTable are')\n",
    "for entry in ht.buckets:\n",
    "    print(entry)\n",
    "print('\\nRetrieving values in range [5, 25] from ChainedHashTable')\n",
    "for k in range(5, 26):\n",
    "    print('Key:', k, '->', ht.get(k))\n"
   ]
  },
  {
   "cell_type": "markdown",
   "metadata": {},
   "source": []
  },
  {
   "cell_type": "code",
   "execution_count": null,
   "metadata": {},
   "outputs": [],
   "source": []
  }
 ],
 "metadata": {
  "kernelspec": {
   "display_name": "Python 3",
   "language": "python",
   "name": "python3"
  },
  "language_info": {
   "codemirror_mode": {
    "name": "ipython",
    "version": 3
   },
   "file_extension": ".py",
   "mimetype": "text/x-python",
   "name": "python",
   "nbconvert_exporter": "python",
   "pygments_lexer": "ipython3",
   "version": "3.7.7"
  }
 },
 "nbformat": 4,
 "nbformat_minor": 4
}

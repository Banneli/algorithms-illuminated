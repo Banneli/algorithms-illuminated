{
 "cells": [
  {
   "cell_type": "markdown",
   "metadata": {},
   "source": [
    "### Introduction\n",
    "\n",
    "Graphs are relationships between pair of objects. The objects are called Vertices (singulat: vertex) or nodes and the relationship between them is represented by the edge. The graph (G) is represented using the vertices (V) and the edges (E).\n",
    "\n",
    "---\n",
    "\n",
    "Two flavors of graph are directed and undirected.\n",
    "\n",
    "- In an undirected graph, the edges are formed by the undirected edges {v, w}. This mearly means that the vertices have a connection between them and there is no direction necessary for the edge. Thus the edge (v, w) is same as edge (w, v). Friendship in social networking site like Facebook is an example of undirected graph. If Tom is friend of Jerry then Jerry is also a friend of Tom.\n",
    "- Directed graphs on other hand have edges directed **from** node v to w. In this case since the edge originates from v, it is the tail and since it goes to w, w is the head of the edge. The edges (v, w) is not same as (w, v) abd infact one of them may not even exist. Twitter followers can be represented by directed edges. If Tom follows Jerry on twitter, Jerry may or may not follow Tom. Twitter following is not mutual unlike friends on Facebook.\n",
    "\n",
    "Some examples of graphs are \n",
    "\n",
    "- Road networks: Though we may represent this using undirected graphs for simplicity its more apt to represent road networks using directed graphs. Roads generally are two way in which case we will have both edges (v, w) and (w, v) but that may not always be true in cases we have one way streets.\n",
    "- World wide web: This is an example of directed graph where the page containing hyperlink to another page is the tail of the directed graph and the page it references being the head.\n",
    "- Precedence constraints: We use this to form dependency trees where to preform a task A, we can find what are the prerequisites.\n",
    "\n",
    "#### Notation of a graph\n",
    "\n",
    "A graph G is represented using its Vertices and Edges as \n",
    "\n",
    "G = (V, E)\n",
    "\n",
    "where \n",
    "\n",
    "n = $\\vert V \\vert$, number of vertices and \n",
    "\n",
    "m = $\\vert E \\vert$, number of edges\n",
    "\n",
    "---\n",
    "\n",
    "**Quiz 7.1**\n",
    "\n",
    "\n",
    "Lets consider an undirected graph G with n vertices with no parallel edges (no two vertices have two edges connecting them). What are the minimum and maximum number of edges.\n",
    "\n",
    "To start with minimum number of edges, a graph will stay as one graph if we can traverse from one vertex to another. Its not too difficult to see that we will need **n - 1**. That is to connect from a vertex $v_1$ n - 1 edges top remaining n - 1 vertices $n_2 .. n_n$ \n",
    "\n",
    "Now for maximum edges, we will draw from first vertex, n-1 edges to remaining edges. Then from second vertex have to draw n - 2 edges to remaining vertices. Why n - 2? Its because there already is an edge from first vertex to the second and we dont have parallel edges. Continuing this way, we will have (n - 1) + (n - 1) + (n - 3) + ... 1 edges which is same as $\\frac{n(n-1)}{2}$\n",
    "\n",
    "---\n",
    "\n",
    "#### Sparse and Dense graphs\n",
    "\n",
    "We see above that the number of vertices m = $\\Omega{(n)}$ and m = $\\theta{(n^2)}$. This the number of edges range from linear to quadratic. Though there is no strict cutoff for considering a graph sparse or dense, we can call a graph sparse if the number of edges is close to linear or dense if it is close to quadratic.\n",
    "\n",
    "Thus something like $\\theta{(nlogn)}$ is considered sparse whare as $\\theta{(\\frac{n^2}{log n})}$ is dense. Subquadratic like $n^{1.5}$ is either sparse or dense depending on the application\n"
   ]
  },
  {
   "cell_type": "code",
   "execution_count": null,
   "metadata": {
    "collapsed": true
   },
   "outputs": [],
   "source": []
  }
 ],
 "metadata": {
  "kernelspec": {
   "display_name": "Python 3",
   "language": "python",
   "name": "python3"
  },
  "language_info": {
   "codemirror_mode": {
    "name": "ipython",
    "version": 3
   },
   "file_extension": ".py",
   "mimetype": "text/x-python",
   "name": "python",
   "nbconvert_exporter": "python",
   "pygments_lexer": "ipython3",
   "version": "3.6.1"
  }
 },
 "nbformat": 4,
 "nbformat_minor": 2
}

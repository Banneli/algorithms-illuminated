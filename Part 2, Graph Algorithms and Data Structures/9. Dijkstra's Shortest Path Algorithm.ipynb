{
 "cells": [
  {
   "cell_type": "markdown",
   "metadata": {
    "collapsed": true
   },
   "source": [
    "### Introduction\n",
    "\n",
    "The algorithm, given a directed graph and a starting vertex, it will find the shortest paths between the starting vertex and all vertices it can reach. The algorithm **only** works when the paths have non negative edges connecting the vertices.\n",
    "\n",
    "\n",
    "Thus, given a graph G = (V, E), a starting vertex s $\\in$ V and non negative edges of length $l_e$ where e $\\in$ E, the output of the algorithm is dist(s, v) for every vertex v $\\in$ V\n",
    "\n",
    "The dist(s, v) denotes the shortest distance from s to v and dist(s, v) = $\\infty$ if there is no path from s to a vertex v.\n",
    "\n",
    "---\n",
    "\n",
    "We have seen how BFS can be used to find the shortest path to any vertex from a vertex. This is a special case of graph where each edge has unit length. Djikstra's algorithm is more generic in a way where each edge can have a weight of non positive value.\n",
    "\n",
    "But can we reduce this graph to a graph where edges are of unit length? That is, if an edge between two vertices have a weight 5, we can replace this edge (with the two vertices) with 5 vertices connected one after other with each edge length of 1 as seen in the following graph\n",
    "\n"
   ]
  },
  {
   "cell_type": "code",
   "execution_count": 46,
   "metadata": {},
   "outputs": [
    {
     "data": {
      "image/png": "[encoded data removed]",
      "text/plain": [
       "<matplotlib.figure.Figure at 0x1182bc898>"
      ]
     },
     "metadata": {},
     "output_type": "display_data"
    }
   ],
   "source": [
    "%matplotlib inline\n",
    "import networkx as nx\n",
    "\n",
    "g1 = nx.DiGraph()\n",
    "g1.add_node(1, pos = (0, 5))\n",
    "g1.add_node(2, pos = (20, 5))\n",
    "g1.add_edge(1, 2, weight = 5)\n",
    "pos = nx.get_node_attributes(g1, 'pos')\n",
    "weights =nx.get_edge_attributes(g1, 'weight')\n",
    "nx.draw_networkx_edge_labels(g1, pos, edge_labels = weights)\n",
    "nx.draw(g1, pos, with_labels = True)\n",
    "\n",
    "g2 = nx.DiGraph()\n",
    "g2.add_node(1, pos = (0, 0))\n",
    "g2.add_node(2, pos = (5, 0))\n",
    "g2.add_node(3, pos = (10, 0))\n",
    "g2.add_node(4, pos = (15, 0))\n",
    "g2.add_node(5, pos = (20, 0))\n",
    "g2.add_edge(1, 2, weight = 1)\n",
    "g2.add_edge(2, 3, weight = 1)\n",
    "g2.add_edge(3, 4, weight = 1)\n",
    "g2.add_edge(4, 5, weight = 1)\n",
    "pos = nx.get_node_attributes(g2, 'pos')\n",
    "weights =nx.get_edge_attributes(g2, 'weight')\n",
    "nx.draw_networkx_edge_labels(g2, pos, edge_labels = weights)\n",
    "nx.draw(g2, pos, with_labels = True)"
   ]
  },
  {
   "cell_type": "markdown",
   "metadata": {},
   "source": [
    "\n",
    "\n",
    "The idea sounds right and also works well for small graphs with small length edges. But imagine graphs with vertices of length order or magnitude larger than the number of vertices in a graph (e.g. two vertices connected by edge of length 100 gets transformed to a graoh with 100 vertices each of unit length). \n",
    "\n",
    "Though BFS runs in linear time of the input graph size, the transformed graph is way larger that the original graph and hence the time complexity is no longer linear with respect to the original input graph and thus this appoach, though clever doesn't practically scale to all graphs.\n",
    "\n",
    "\n",
    "---\n",
    "\n",
    "\n",
    "Let us now look at an implementation of Djikstra's algorithm. Though the implementation here can use heap, we will not use it and stick to the approach the Pseudo code gives in thic chapter. This implementation will use Heap in future notebook and we will be able to appreciate the how the choice of right datastructure is crucial even for the same algorithm\n",
    "\n",
    "TODO: Naive implementation here"
   ]
  },
  {
   "cell_type": "code",
   "execution_count": null,
   "metadata": {
    "collapsed": true
   },
   "outputs": [],
   "source": []
  }
 ],
 "metadata": {
  "kernelspec": {
   "display_name": "Python 3",
   "language": "python",
   "name": "python3"
  },
  "language_info": {
   "codemirror_mode": {
    "name": "ipython",
    "version": 3
   },
   "file_extension": ".py",
   "mimetype": "text/x-python",
   "name": "python",
   "nbconvert_exporter": "python",
   "pygments_lexer": "ipython3",
   "version": "3.6.1"
  }
 },
 "nbformat": 4,
 "nbformat_minor": 2
}

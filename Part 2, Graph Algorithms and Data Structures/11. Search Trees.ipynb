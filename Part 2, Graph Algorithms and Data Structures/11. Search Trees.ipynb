{
 "cells": [
  {
   "cell_type": "markdown",
   "metadata": {},
   "source": [
    "### 11. Search Trees\n",
    "\n",
    "In this notebook we will look at searching algorithms and sub data structures thatr can let us perform fast search operations. Naive search algorithm can search for value in the data structure in linear time. The data structures we will look at will letr us perform that operation much faster than that.\n",
    "\n",
    "We previously looked at heaps which are very fast at finding the minimum/maximum value from an evolving set of values. If our usecase is just to find min/max (only one of min/max) values, heaps are very simple yet efficient data structures. If we want to extend our set of operations to the following list *to start with*\n",
    "\n",
    "- *Search*: Given a key, check if the key exists in the data structure\n",
    "- *Min/Max*: Find the minimum and maximum (both operations supported on the same datastructure, unlike heap) key\n",
    "- *Predecessor/Successor*: Given a key, find an object which is the predecessor/successor of the object with given key\n",
    "- *SortedOutput* : Return the keys in the data structure in sorted order\n",
    "- *Select*: Given a number i between 1 to n (number of keys in the data structure), return the $i^{th}$ smallest key\n",
    "- *Rank*: Given a key k, give number of keys in the data structure with keys atmost k.\n",
    "\n",
    "We will start with a super simple data structure, sorted arrays to implement the above mentioned operation\n",
    "\n",
    "#### Sorted Arrays\n"
   ]
  },
  {
   "cell_type": "code",
   "execution_count": 1,
   "metadata": {
    "collapsed": true
   },
   "outputs": [],
   "source": [
    "class BinarySearchArray:\n",
    "    \n",
    "    def __init__(self, nums):\n",
    "        self.array = sorted(nums)\n",
    "        \n",
    "    def search(self, n):\n",
    "        \n",
    "        def search_rec_(left, right):\n",
    "            if left >= right:\n",
    "                return None\n",
    "            else:\n",
    "                mid = (left + right) // 2\n",
    "                if self.array[mid] == n:\n",
    "                    return mid\n",
    "                elif self.array[mid] > n:\n",
    "                    return search_rec_(left = left, right = mid)\n",
    "                else:\n",
    "                    return search_rec_(left = mid + 1, right = right)    \n",
    "            \n",
    "        return search_rec_(left = 0, right = len(self.array))\n",
    "        \n",
    "        \n",
    "\n",
    "    def min_(self):\n",
    "        return self.array[0]\n",
    "\n",
    "    def max_(self):        \n",
    "        return self.array[-1]\n",
    "    \n",
    "    def predecessor(self, n):\n",
    "        idx = self.search(n)\n",
    "        if idx is not None:\n",
    "            #This can make the running time linear. The fix if to enhance search to either return \n",
    "            #the left most of right most match and not the first match, \n",
    "            #this can easily be implemented by continuing to recurse till the left/right\n",
    "            #of element index we return has a value != n. That way we still have log(n) guarantee. Here we \n",
    "            #want to keep the implementation of search simple\n",
    "            while idx >= 0 and self.array[idx] == n:\n",
    "                idx -= 1\n",
    "\n",
    "        return (None, None) if idx is None or idx < 0 else (self.array[idx], idx)\n",
    "        \n",
    "    def successor(self, n):\n",
    "        idx = self.search(n)\n",
    "        if idx is not None:\n",
    "            #See comment in predecessor on the linear time worst case and how we can make it logarithmic\n",
    "            while idx < len(self.array) and self.array[idx] == n:\n",
    "                idx += 1\n",
    "        return (None, None) if idx is None or idx == len(self.array) else (self.array[idx], idx)\n",
    "        \n",
    "    def sorted_output(self):\n",
    "        return list(self.array)\n",
    "    \n",
    "    def select(self, i):\n",
    "        return self.array[i - 1] if i > 0 and i <= len(self.array) else None\n",
    "    \n",
    "    def rank(self, n):\n",
    "        _, idx = self.successor(n)\n",
    "        return None if idx is None else idx\n",
    "        "
   ]
  },
  {
   "cell_type": "code",
   "execution_count": 2,
   "metadata": {
    "collapsed": true
   },
   "outputs": [],
   "source": [
    "unsorted_array = [5, 3, 8, 2, 5, 1, 7]\n",
    "a = BinarySearchArray(unsorted_array)"
   ]
  },
  {
   "cell_type": "code",
   "execution_count": 3,
   "metadata": {},
   "outputs": [
    {
     "name": "stdout",
     "output_type": "stream",
     "text": [
      "Numbers in the array are [1, 2, 3, 5, 5, 7, 8]\n",
      "Searching numbers 1 to 10 in the array gives index [(1, 0), (2, 1), (3, 2), (4, None), (5, 3), (6, None), (7, 5), (8, 6), (9, None), (10, None)]\n"
     ]
    }
   ],
   "source": [
    "print('Numbers in the array are', a.array)\n",
    "print('Searching numbers 1 to 10 in the array gives index', [(i, a.search(i)) for i in range(1, 11)])"
   ]
  },
  {
   "cell_type": "markdown",
   "metadata": {},
   "source": [
    "Notice that we have two 5s in the array and how we return in index of the first one we find when we recursively find. There is no guarantee we will find the first or the last value in search\n",
    "\n",
    "Lets continue testing remaining operations\n"
   ]
  },
  {
   "cell_type": "code",
   "execution_count": 4,
   "metadata": {},
   "outputs": [
    {
     "name": "stdout",
     "output_type": "stream",
     "text": [
      "Predecessor of 1 should be None and we get None\n",
      "Successor of 8 should be None and we get None\n",
      "Predecessor of 5 should be 3 and we get 3\n",
      "Successor of 5 should be 7 and we get 7\n",
      "Sorted output is  [1, 2, 3, 5, 5, 7, 8]\n",
      "Rank of 5 is expected to be 5(as we have 5 numbers <= 5), got 5\n",
      "Rank of 7 is expected to be 6(as we have 6 numbers <= 7), got 6\n",
      "Select 10 should return None, got None\n",
      "Select 6 should return 7 (now how this is reverse of rank), got 7\n",
      "Select 5 should return 5 (now how this is reverse of rank), got 5\n"
     ]
    }
   ],
   "source": [
    "print('Predecessor of 1 should be None and we get', a.predecessor(1)[0])\n",
    "print('Successor of 8 should be None and we get', a.successor(8)[0])\n",
    "print('Predecessor of 5 should be 3 and we get', a.predecessor(5)[0])\n",
    "print('Successor of 5 should be 7 and we get', a.successor(5)[0])\n",
    "print('Sorted output is ', a.sorted_output())\n",
    "print('Rank of 5 is expected to be 5(as we have 5 numbers <= 5), got', a.rank(5))\n",
    "print('Rank of 7 is expected to be 6(as we have 6 numbers <= 7), got', a.rank(7))\n",
    "print('Select 10 should return None, got', a.select(10))\n",
    "print('Select 6 should return 7 (now how this is reverse of rank), got', a.select(6))\n",
    "print('Select 5 should return 5 (now how this is reverse of rank), got', a.select(5))"
   ]
  },
  {
   "cell_type": "markdown",
   "metadata": {},
   "source": [
    "Lets summarize the running times of our search using sorted arrays in the folowing table\n",
    "\n",
    "|Operation|Running Time|\n",
    "|--|--|\n",
    "|Search|$\\theta(log(n))$|\n",
    "|Min|$\\theta(1)$|\n",
    "|Max|$\\theta(1)$|\n",
    "|Predecessor|$\\theta(log(n))$|\n",
    "|Successor|$\\theta(log(n))$|\n",
    "|SortedOutput|$\\theta(n)$|\n",
    "|Select|$\\theta(1)$|\n",
    "|Rank|$\\theta(log(n))$|\n",
    "\n",
    "\n",
    "Now that we have a working implemention of these 8 operations on arrays which gives is reasonably fast running time, we see there are a couple of issues with Sorted arrays. Many real world applications are dynamic in nature and supporting insertion and deletion of elements is curcial. Inserting and deleting elements from Sorted array is linear time operation in the best case and thus we will need a different data structure to handle dynamic data.\n",
    "\n",
    "We will now look at Search trees.\n",
    "\n",
    "#### Search Trees\n",
    "\n",
    "Search Trees will achieve all operations in $\\theta(log(n))$ time except sorted output which will run in $\\theta(n)$ time.\n",
    "\n",
    "Following table summarizes the running times\n",
    "\n",
    "|Operation|Sorted Array|*Balanced* Search Tree|\n",
    "|--|--|--|\n",
    "|Search|$\\theta(log(n))$|$\\theta(log(n))$|\n",
    "|Min|$\\theta(1)$|$\\theta(log(n))$|\n",
    "|Max|$\\theta(1)$|$\\theta(log(n))$|\n",
    "|Predecessor|$\\theta(log(n))$|$\\theta(log(n))$|\n",
    "|Successor|$\\theta(log(n))$|$\\theta(log(n))$|\n",
    "|SortedOutput|$\\theta(n)$|$\\theta(n)$|\n",
    "|Select|$\\theta(1)$|$\\theta(log(n))$|\n",
    "|Rank|$\\theta(log(n))$|$\\theta(log(n))$|\n",
    "|**Insert**|$\\theta(n)$|$\\theta(log(n))$|\n",
    "|**Delete**|$\\theta(n)$|$\\theta(log(n))$|\n",
    "\n",
    "\n",
    "The search tree running time guarantees are for balances binary tree.\n",
    "\n",
    "Implementing self balancing trees is not trivial and our initial implementation will not be looking to implement self balancing trees but rely on the fact that the numbers being added to th tree are not sorted and random in nature. We will see how providing sorted keys for insertion in simple\n"
   ]
  },
  {
   "cell_type": "code",
   "execution_count": null,
   "metadata": {
    "collapsed": true
   },
   "outputs": [],
   "source": []
  },
  {
   "cell_type": "code",
   "execution_count": 92,
   "metadata": {},
   "outputs": [],
   "source": [
    "class BinarySearchTree:\n",
    "    \n",
    "    class Node:\n",
    "        \n",
    "        def __init__(self, v):\n",
    "            self.parent = None\n",
    "            self.left = None\n",
    "            self.right = None\n",
    "            self.count = 1\n",
    "            self.value = v\n",
    "            \n",
    "    \n",
    "    def __init__(self):\n",
    "        self.root = None\n",
    "        \n",
    "    def insert(self, v):\n",
    "        def insert_(current, parent, isLeft):\n",
    "            if current is None:\n",
    "                n = self.Node(v)\n",
    "                n.parent = parent\n",
    "                if isLeft:\n",
    "                    parent.left = n\n",
    "                else:\n",
    "                    parent.right = n\n",
    "            else:\n",
    "                if v == current.value:\n",
    "                    current.count += 1\n",
    "                elif v < current.value:\n",
    "                    insert_(current.left, current, True)\n",
    "                else:\n",
    "                    insert_(current.right, current, False)\n",
    "    \n",
    "        if self.root is None:\n",
    "            self.root = self.Node(v)\n",
    "        else:\n",
    "            insert_(self.root, None, None)\n",
    "            \n",
    "        \n",
    "    def delete(self, v):\n",
    "        pass\n",
    "        \n",
    "    def search(self, n):        \n",
    "        def search_(current):\n",
    "            if current is None:\n",
    "                return None\n",
    "            elif current.value == n:\n",
    "                return current\n",
    "            elif current.value > n:\n",
    "                return search_(current.left)\n",
    "            else:\n",
    "                return search_(current.right)\n",
    "            \n",
    "        return search_(self.root)\n",
    "\n",
    "    def __min__(self, node):\n",
    "        if node is None:\n",
    "            return None\n",
    "        if node.left is None:\n",
    "            return node\n",
    "        else:\n",
    "            return self.__min__(node.left)\n",
    "        \n",
    "    def min_(self):\n",
    "        return None if self.root is None else self.__min__(self.root).value\n",
    "\n",
    "    def __max__(self, node):\n",
    "        if node is None:\n",
    "            return None\n",
    "        if node.right is None:\n",
    "            return node\n",
    "        else:\n",
    "            return self.__max__(node.right)\n",
    "        \n",
    "    def max_(self):\n",
    "        return None if self.root is None else self.__max__(self.root).value\n",
    "    \n",
    "    def predecessor(self, n):\n",
    "        node = self.search(n)\n",
    "        if node is not None:\n",
    "            if node.left is None:\n",
    "                while node.parent is not None and node == node.parent.left:\n",
    "                    node = node.parent\n",
    "                \n",
    "                if node.parent is None:\n",
    "                    #Case when we are trying to find the predecessor of minimum\n",
    "                    return None\n",
    "                else:\n",
    "                    return node.parent.value\n",
    "            else:\n",
    "                return self.__max__(node.left).value\n",
    "        else:\n",
    "            return None\n",
    "            \n",
    "        \n",
    "    def successor(self, n):\n",
    "        pass\n",
    "\n",
    "    def sorted_output(self):\n",
    "        res = []\n",
    "        def inorder_(node):\n",
    "            if node is not None:\n",
    "                inorder_(node.left)\n",
    "                res.extend([node.value] * node.count)\n",
    "                inorder_(node.right)\n",
    "        inorder_(self.root)\n",
    "        return res\n",
    "    \n",
    "    def select(self, i):\n",
    "        pass\n",
    "    \n",
    "    def rank(self, n):\n",
    "        pass"
   ]
  },
  {
   "cell_type": "code",
   "execution_count": 93,
   "metadata": {},
   "outputs": [
    {
     "name": "stdout",
     "output_type": "stream",
     "text": [
      "Searching numbers 1 to 10 in the Tree gives [(1, True), (2, True), (3, True), (4, False), (5, True), (6, False), (7, True), (8, True), (9, False), (10, False)]\n",
      "\n",
      "Searching numbers 1 to 10 in the Array gives [(1, True), (2, True), (3, True), (4, False), (5, True), (6, False), (7, True), (8, True), (9, False), (10, False)]\n"
     ]
    }
   ],
   "source": [
    "bst = BinarySearchTree()\n",
    "bsa = BinarySearchArray(unsorted_array)\n",
    "for i in unsorted_array:\n",
    "    bst.insert(i)\n",
    "print('Searching numbers 1 to 10 in the Tree gives', [(i, bst.search(i) is not None) for i in range(1, 11)])\n",
    "print('\\nSearching numbers 1 to 10 in the Array gives', [(i, bsa.search(i) is not None) for i in range(1, 11)])"
   ]
  },
  {
   "cell_type": "markdown",
   "metadata": {},
   "source": [
    "\n",
    "As we see above, the binary search tree and search array gives identical results on searching."
   ]
  },
  {
   "cell_type": "code",
   "execution_count": 102,
   "metadata": {},
   "outputs": [
    {
     "name": "stdout",
     "output_type": "stream",
     "text": [
      "Minimum in BinarySearchArray is 1 , minimum in BinarySearchTree is 1\n",
      "Maximum in BinarySearchArray is 8 , maximum in BinarySearchTree is 8\n",
      "====================================================================================================\n",
      "Predecessors using BinarySearchArray for all elements give [(5, 3), (3, 2), (8, 7), (2, 1), (5, 3), (1, None), (7, 5)]\n",
      "Predecessors using BinarySearchTree for all elements give [(5, 3), (3, 2), (8, 7), (2, 1), (5, 3), (1, None), (7, 5)]\n",
      "====================================================================================================\n",
      "Successor using BinarySearchArray for all elements give [(5, 7), (3, 5), (8, None), (2, 3), (5, 7), (1, 2), (7, 8)]\n",
      "Successor using BinarySearchTree for all elements give [(5, None), (3, None), (8, None), (2, None), (5, None), (1, None), (7, None)]\n",
      "====================================================================================================\n",
      "Sorted output using BinarySearchArray for all elements give [1, 2, 3, 5, 5, 7, 8]\n",
      "Sorted output using BinarySearchTree for all elements give [1, 2, 3, 5, 5, 7, 8]\n"
     ]
    }
   ],
   "source": [
    "print('Minimum in BinarySearchArray is', bsa.min_(), ', minimum in BinarySearchTree is', bst.min_())\n",
    "print('Maximum in BinarySearchArray is', bsa.max_(), ', maximum in BinarySearchTree is', bst.max_())\n",
    "print(\"=\" * 100)\n",
    "print('Predecessors using BinarySearchArray for all elements give', \n",
    "      [(i, bsa.predecessor(i)[0]) for i in unsorted_array])\n",
    "print('Predecessors using BinarySearchTree for all elements give', \n",
    "      [(i, bst.predecessor(i)) for i in unsorted_array])\n",
    "print(\"=\" * 100)\n",
    "print('Successor using BinarySearchArray for all elements give', \n",
    "      [(i, bsa.successor(i)[0]) for i in unsorted_array])\n",
    "#TODO\n",
    "print('Successor using BinarySearchTree for all elements give', \n",
    "      [(i, bst.successor(i)) for i in unsorted_array])\n",
    "\n",
    "print(\"=\" * 100)\n",
    "print('Sorted output using BinarySearchArray for all elements give', bsa.sorted_output())\n",
    "print('Sorted output using BinarySearchTree for all elements give', bst.sorted_output())\n"
   ]
  },
  {
   "cell_type": "code",
   "execution_count": null,
   "metadata": {},
   "outputs": [],
   "source": []
  },
  {
   "cell_type": "code",
   "execution_count": null,
   "metadata": {
    "collapsed": true
   },
   "outputs": [],
   "source": []
  }
 ],
 "metadata": {
  "kernelspec": {
   "display_name": "Python 3",
   "language": "python",
   "name": "python3"
  },
  "language_info": {
   "codemirror_mode": {
    "name": "ipython",
    "version": 3
   },
   "file_extension": ".py",
   "mimetype": "text/x-python",
   "name": "python",
   "nbconvert_exporter": "python",
   "pygments_lexer": "ipython3",
   "version": "3.6.1"
  }
 },
 "nbformat": 4,
 "nbformat_minor": 2
}

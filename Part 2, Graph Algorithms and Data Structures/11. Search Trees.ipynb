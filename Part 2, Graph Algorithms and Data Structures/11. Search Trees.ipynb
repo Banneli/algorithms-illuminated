{
 "cells": [
  {
   "cell_type": "markdown",
   "metadata": {},
   "source": [
    "### 11. Search Trees\n",
    "\n",
    "In this notebook we will look at searching algorithms and sub data structures thatr can let us perform fast search operations. Naive search algorithm can search for value in the data structure in linear time. The data structures we will look at will letr us perform that operation much faster than that.\n",
    "\n",
    "We previously looked at heaps which are very fast at finding the minimum/maximum value from an evolving set of values. If our usecase is just to find min/max (only one of min/max) values, heaps are very simple yet efficient data structures. If we want to extend our set of operations to the following list *to start with*\n",
    "\n",
    "- *Search*: Given a key, check if the key exists in the data structure\n",
    "- *Min/Max*: Find the minimum and maximum (both operations supported on the same datastructure, unlike heap) key\n",
    "- *Predecessor/Successor*: Given a key, find an object which is the predecessor/successor of the object with given key\n",
    "- *SortedOutput* : Return the keys in the data structure in sorted order\n",
    "- *Select*: Given a number i between 1 to n (number of keys in the data structure), return the $i^{th}$ smallest key\n",
    "- *Rank*: Given a key k, give number of keys in the data structure with keys atmost k.\n",
    "\n",
    "We will start with a super simple data structure, sorted arrays to implement the above mentioned operation\n"
   ]
  },
  {
   "cell_type": "code",
   "execution_count": null,
   "metadata": {
    "collapsed": true
   },
   "outputs": [],
   "source": []
  }
 ],
 "metadata": {
  "kernelspec": {
   "display_name": "Python 3",
   "language": "python",
   "name": "python3"
  },
  "language_info": {
   "codemirror_mode": {
    "name": "ipython",
    "version": 3
   },
   "file_extension": ".py",
   "mimetype": "text/x-python",
   "name": "python",
   "nbconvert_exporter": "python",
   "pygments_lexer": "ipython3",
   "version": "3.6.1"
  }
 },
 "nbformat": 4,
 "nbformat_minor": 2
}

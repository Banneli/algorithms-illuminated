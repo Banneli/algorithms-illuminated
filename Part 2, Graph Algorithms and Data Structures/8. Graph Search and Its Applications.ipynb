{
 "cells": [
  {
   "cell_type": "markdown",
   "metadata": {},
   "source": [
    "### Introduction\n",
    "\n",
    "We will start with Generig Graph search. Graph Search is an algorithm where, given a graph, G(V, E), with a starting vertex s $\\in$ V, we identify all vertices of G reachable from s\n",
    "\n",
    "\n",
    "The generic graph search algorithm does the following, with the input grapg G = (V, E) and start vertex s\n",
    "\n",
    "```\n",
    "mark s as explored and all other vertices as unexplored\n",
    "\n",
    "while there is an edge (v, w) in E where v is explored and w is not explored:\n",
    "    mark w as explored\n",
    "\n",
    "```\n",
    "\n",
    "---\n",
    "\n",
    "The above algorithm is very abstract and the strategy to pick the edge is not specified. In the above algorithm, the vertex v is in the frontier and we wish to find all edges with one vertex in frontier and other outside. Two strategies that we can look at are \n",
    "\n",
    "- For all vertices in the frontier, explore all edges that go from them to vertices outside the frontier\n",
    "- Another strategy would be \n",
    "    - Pick one vertex in the frontier\n",
    "    - Pick one edge from the this vertex to another vertex not in frontier\n",
    "    - Add this another vertex to the frontier and aggressively keep adding the vertices in the frontier before looking at another vertex, unlike the first strategy\n",
    "    \n",
    "These two approches are BFS(Breadth First Search) and DFS (Depth First Search) algorothms for graph exploration. While they both work for finding all possible vertices reachable from a starting vertex s in time $\\theta(m + n)$, for some use cases we choose one over another.\n",
    "\n",
    "For example, for computing the shortst distance to a vertex from a starting vertex s can be done only using BFS efficiently. Where as some use cases like finding strongly connected components in case of directed graphs, we need DFS.\n",
    "\n"
   ]
  },
  {
   "cell_type": "code",
   "execution_count": 26,
   "metadata": {},
   "outputs": [
    {
     "data": {
      "image/png": "[encoded data removed]",
      "text/plain": [
       "<matplotlib.figure.Figure at 0x11823c160>"
      ]
     },
     "metadata": {},
     "output_type": "display_data"
    }
   ],
   "source": [
    "import warnings\n",
    "warnings.filterwarnings('ignore')\n",
    "\n",
    "import numpy as np\n",
    "import networkx as nx\n",
    "import matplotlib.pyplot as plt\n",
    "\n",
    "#A = np.matrix([[0, 1, 1, 0, 0, 0], \n",
    "#               [1, 0, 0, 1, 0, 0],\n",
    "#               [1, 0, 0, 1, 0, 0],\n",
    "#               [0, 1, 1, 0, 1, 1],               \n",
    "#               [0, 0, 0, 1, 0, 1],\n",
    "#               [0, 0, 0, 1, 1, 0],               \n",
    "#              ])\n",
    "#G = nx.from_numpy_matrix(A)\n",
    "\n",
    "G = nx.Graph()\n",
    "edges = [(0, 1), (0, 2), (2, 3), (1, 3), (3, 4), (3, 5), (4, 5)]\n",
    "G.add_edges_from(edges)\n",
    "nx.draw(G, with_labels = True)\n",
    "plt.show()"
   ]
  },
  {
   "cell_type": "markdown",
   "metadata": {},
   "source": [
    "\n",
    "Consider the above graph, starting from vertex 0 which is at level 0, vertices 1 and 2 are at level 1, vertex 3 at level 2 and vertices 4 and 5 at level 3.\n",
    "\n",
    "BFS will discover these edges in this very order. \n",
    "\n",
    "Following Python code makes use of queues and implements BFS and also give is the level of each of the vertex from a provided starting vertex. We saw how addacency lists can be defined in Python in previous notebook, to avoid copying over the code, we will make use of the graph defined in above cell from python package ``networkx`` to get adjacent edges of a given vertex. "
   ]
  },
  {
   "cell_type": "code",
   "execution_count": 32,
   "metadata": {},
   "outputs": [
    {
     "data": {
      "text/plain": [
       "{0: [1, 2], 1: [0, 3], 2: [0, 3], 3: [2, 1, 4, 5], 4: [3, 5], 5: [3, 4]}"
      ]
     },
     "execution_count": 32,
     "metadata": {},
     "output_type": "execute_result"
    }
   ],
   "source": [
    "adjacency_dict = {v: edges for v, edges in zip(G.nodes(), G.adjacency_list())}\n",
    "adjacency_dict"
   ]
  },
  {
   "cell_type": "markdown",
   "metadata": {},
   "source": [
    "\n",
    "If we look at the above dictionary, the key of the dictionary is the vertex and the value is  the list of edges connected to it. With this dictionary, let us use bfs to find the level of vertices starting with vertex 0 as the starting vertex and see of we get the levels we expect.\n"
   ]
  },
  {
   "cell_type": "code",
   "execution_count": 66,
   "metadata": {},
   "outputs": [
    {
     "name": "stdout",
     "output_type": "stream",
     "text": [
      "Node 0 is at level 0\n",
      "Node 1 is at level 1\n",
      "Node 2 is at level 1\n",
      "Node 3 is at level 2\n",
      "Node 4 is at level 3\n",
      "Node 5 is at level 3\n"
     ]
    }
   ],
   "source": [
    "def bfs(adg_dict, start_vertex):\n",
    "    from queue import Queue\n",
    "    import math\n",
    "    \n",
    "    #1. Create queue, we will add tuple of the vertex and level\n",
    "    q = Queue()\n",
    "    \n",
    "    #2. Initialize all levels to infinite. Any vertex not reachable from start_vertex will stay infinite\n",
    "    levels = [math.inf] * (len(adg_dict.keys()) + 1)\n",
    "    \n",
    "    #3. Set of explored vertices\n",
    "    explored = set()\n",
    "    \n",
    "    #4. Start by putting the start_vertex as level 0\n",
    "    q.put((start_vertex, 0))\n",
    "    \n",
    "    #5. Mark, start vertex as explored\n",
    "    explored.add(start_vertex)\n",
    "    \n",
    "    #6. Iterate till we have no more elements in the queue\n",
    "    while not q.empty():\n",
    "        #7. Get the vertex and its level (stored as tuple) from head of the queue\n",
    "        vertex, level = q.get()\n",
    "        \n",
    "        #8. Store the level of the vertex in the list (remember, we will never visit the vertex more than once)\n",
    "        levels[vertex] = level\n",
    "        \n",
    "        #9. Get adjacent vertices of this vertex\n",
    "        for v in adg_dict[vertex]:\n",
    "            \n",
    "            #10. Mark them as explored, we dont want to add them to queue if we come across this vertex again\n",
    "            if v not in explored:                \n",
    "                explored.add(v)\n",
    "                \n",
    "                #11. The level of this vertex is one more than the one we used to get this vertex\n",
    "                q.put((v, level + 1))\n",
    "\n",
    "    #12. Once the queue is empty, all vertices reachable from the start are explored, return the list with \n",
    "    #the levels of the vertices\n",
    "    return levels\n",
    "    \n",
    "levels = bfs(adjacency_dict, 0)\n",
    "for v, l in zip(adjacency_dict.keys(), levels):\n",
    "    print('Node %d is at level %d'%(v, l))"
   ]
  },
  {
   "cell_type": "markdown",
   "metadata": {},
   "source": [
    "This is what we expected to get. \n",
    "\n",
    "---\n",
    "\n",
    "*** Quiz 8.1. ***\n",
    "\n",
    "For a graph with minimum 2 edges, the minimum number of layers is 2, irrespective of the number of edges. The maximum is n, which can be formed by forming a chain of vertices like a linked list. So the answer will be (d), 2 and n levels\n",
    "\n",
    "---\n",
    "\n",
    "#### Connected components.\n",
    "\n",
    "Lets look at an examples below"
   ]
  },
  {
   "cell_type": "code",
   "execution_count": 54,
   "metadata": {},
   "outputs": [
    {
     "data": {
      "image/png": "[encoded data removed]",
      "text/plain": [
       "<matplotlib.figure.Figure at 0x11886d7b8>"
      ]
     },
     "metadata": {},
     "output_type": "display_data"
    }
   ],
   "source": [
    "G = nx.Graph()\n",
    "G.add_edges_from([(1, 3), (1, 5), (3, 5), (5, 9), (5, 7), (2, 4), (6, 8), (6, 10)])\n",
    "nx.draw(G, with_labels = True)\n",
    "plt.show()"
   ]
  },
  {
   "cell_type": "markdown",
   "metadata": {},
   "source": [
    "As we see above, we have three connected components made of vertices {1, 3, 5, 7, 9}, {2, 4} and {6, 8, 10}\n",
    "\n",
    "These three mentioned above are the connected components of the **undirected graph** above. In general for a set X, if x, y $\\in$ X, then we write x ~ y if x is related to y. \n",
    "\n",
    "For our graph, the set of the ser of vertices V. We write v ~ w if there is an edge between the vertices v and w.\n",
    "The equivalence relation has to satisfy the following three properties\n",
    "\n",
    "- The relations are reflexive, which means x ~ x. In our graph each vertex if related to itself.\n",
    "- The relation is symmetric, which means if x ~ y then y ~ x. In case of undirected graph, this is true as, if there is an edge between w and v there is also an edge between v and w\n",
    "- The relation is transitive. Which means if x ~ y and y ~ z then x ~ z. In case of our graph, if we can reach from vertex x to y and we can reach from y to z, then we can reach from x to z.\n",
    "\n",
    "The equivalence relations partitions the set into some sub sets. Each element in a class is related to each other element in that class and only to elements in that class. \n",
    "\n",
    "In case of graph these classes are connected components.\n",
    "\n",
    "---\n",
    "\n",
    "*** Quiz 8.2 ***\n",
    "\n",
    "With n vertices and m edges, in the worst case we have 0 edges and therefore each vertex is forms one connected component. Thus the maximum numbers of Undirected Connected Components (UCC) we can have is n\n",
    "\n",
    "On other hand, each vertex can reach any other vertex in the graph giving us just one connected component. Thus the answer is (b), 1 and n\n",
    "\n",
    "\n",
    "---\n",
    "\n",
    "We will next implement the UCC algorithm using the bfs we already have implemented. The goal of this algorithm is to tell us the number of strongly connected components in a graph (and the vertices in those components.)"
   ]
  },
  {
   "cell_type": "code",
   "execution_count": 71,
   "metadata": {},
   "outputs": [
    {
     "name": "stdout",
     "output_type": "stream",
     "text": [
      "Number of connected components are 3\n",
      "\n",
      "Connected component 1 has vertices [1, 3, 5, 7, 9]\n",
      "Connected component 2 has vertices [2, 4]\n",
      "Connected component 3 has vertices [6, 8, 10]\n"
     ]
    }
   ],
   "source": [
    "def ucc(adj_dict):\n",
    "    #1. Maintain a set of of unexplored nodes.    \n",
    "    explored = set()\n",
    "    ucc_id = 1\n",
    "    import math\n",
    "    uccs = {}\n",
    "    #2. Iterate through all unexplored vertices\n",
    "    for v in adj_dict.keys():\n",
    "        \n",
    "        if v in explored:\n",
    "            #3a. If vertex is explored, its already part of some connected component, skip it\n",
    "            continue\n",
    "        else:\n",
    "            #3b. Invoke bfs we already implemented. All vertices not reachable will have distance inf\n",
    "            distances = bfs(adj_dict, v)\n",
    "            #4. Filter out all vertices with infinite distances, \n",
    "            #those are the vertices not in the current connected component\n",
    "            vertices = [v for v, dist in enumerate(distances) if dist is not math.inf]\n",
    "            \n",
    "            #5. Add all vertices in current component to the set, to prevent further exploration of these vertices\n",
    "            explored.update(vertices)\n",
    "            \n",
    "            #6. Store the uccs as 1, 2, 3, 4,....\n",
    "            uccs[ucc_id] = vertices\n",
    "            ucc_id += 1\n",
    "    \n",
    "    return uccs\n",
    "    \n",
    "adj_dict = {k: v for k, v in zip(G.nodes(), G.adjacency_list())}\n",
    "uccs = ucc(adj_dict)\n",
    "print('Number of connected components are %d\\n'%len(uccs))\n",
    "for ucc_id in uccs:\n",
    "    print('Connected component', ucc_id, 'has vertices', uccs[ucc_id])"
   ]
  },
  {
   "cell_type": "markdown",
   "metadata": {},
   "source": [
    "\n",
    "The result we see above is exactly what we expected.\n",
    "\n",
    "---\n",
    "\n",
    "Lets look at the running time of this algorithm.\n",
    "\n",
    "For BFS, the algorithm never processes a vertex more than once and thus one component of the complexity if linear in terms of the number of vertices n. If it processes a vertex, it will iterate over each edge of the graph which involves this vertex. Since each vertex if processed only once and each time we process all edges of that vertex, the complexity if also linear in the number of edges in that graph and thus the time complxity is $O(m + n)$\n",
    "\n",
    "For the connected components (UCC) algorithm, we do a linear scan on all vertices and invoke BFS from a vertex only if it does not yet belong to a UCC, Thus for a connected component *i*, the complexity if $\\theta(m_i + n_i)$\n",
    "\n",
    "The total complexity therefore is $\\theta(\\sum_i{m_i} + \\sum_i{n_i})$\n",
    "\n",
    "The ucc algoritm discovers all the vertices across all the connected components and by definition of ucc, one vertex belongs to only one connected component. Therefore $\\sum{n_i}$ will be same as the total vertices in the graph(s). Similarly, the edges in the connected components belong entirely to the vertices within that connected component and thus $\\sum{m_i}$ is same as the number of edges in the graph and therefore the complexity of ucc is $\\theta(m + n)$\n",
    "\n",
    "\n",
    "#### Depth First Search (DFS)\n",
    "\n",
    "We will now look at another graph traversal algorithm, DFS.\n",
    "\n",
    "Below, is a recursive implementation of DFS. We will define the same graph used for BFS and do a DFS traversal. First, lets take a look at the graph again\n",
    "\n"
   ]
  },
  {
   "cell_type": "code",
   "execution_count": 72,
   "metadata": {},
   "outputs": [
    {
     "data": {
      "image/png": "[encoded data removed]",
      "text/plain": [
       "<matplotlib.figure.Figure at 0x118411be0>"
      ]
     },
     "metadata": {},
     "output_type": "display_data"
    }
   ],
   "source": [
    "G = nx.Graph()\n",
    "edges = [(0, 1), (0, 2), (2, 3), (1, 3), (3, 4), (3, 5), (4, 5)]\n",
    "G.add_edges_from(edges)\n",
    "nx.draw(G, with_labels = True)\n",
    "plt.show()"
   ]
  },
  {
   "cell_type": "markdown",
   "metadata": {},
   "source": [
    "Now, with DFS, we will print out the order in which we iterate through the vertices of the graph"
   ]
  },
  {
   "cell_type": "code",
   "execution_count": 77,
   "metadata": {},
   "outputs": [
    {
     "data": {
      "text/plain": [
       "[0, 1, 3, 2, 4, 5]"
      ]
     },
     "execution_count": 77,
     "metadata": {},
     "output_type": "execute_result"
    }
   ],
   "source": [
    "def dfs(adj_dict, start_vertex):\n",
    "    visited = set()\n",
    "    order = list()\n",
    "    def dfs_(current_vertex):\n",
    "        if current_vertex not in visited:\n",
    "            visited.add(current_vertex)\n",
    "            order.append(current_vertex)\n",
    "            \n",
    "            for adjacent_vertex in adj_dict[current_vertex]:\n",
    "                dfs_(adjacent_vertex)\n",
    "            \n",
    "        \n",
    "    dfs_(start_vertex)\n",
    "    return order\n",
    "    \n",
    "    \n",
    "adj_dict = {k: v for k, v in zip(G.nodes(), G.adjacency_list())}\n",
    "dfs(adj_dict, 0)"
   ]
  },
  {
   "cell_type": "markdown",
   "metadata": {},
   "source": [
    "\n",
    "The above result shows us how the traversal went from 0 -> 1 and then 1 -> 3 and finally 3 traversing all its adjacent vertices including 2 (which is also adjacent to 0). This is now how BFS worked and it would be visited 1 and 2 before it visited 3.\n",
    "\n",
    "For running time, its similar to BFS, each vertex is visited only once and we travse all edges from the vertex currently processed. Therefore the running time is $\\theta(m + n)$\n",
    "\n",
    "\n",
    "#### Topological Sort\n",
    "\n",
    "We will now look at an application of DFS, which is topological sort. \n",
    "\n",
    "Topological ordering of a graph G = (V, E) is assignment $f(v)$ to every vertex v $\\in$ V such that for every edge (v, w) $\\in$ E, $f(v) < f(w)$\n",
    "\n",
    "\n"
   ]
  },
  {
   "cell_type": "code",
   "execution_count": null,
   "metadata": {
    "collapsed": true
   },
   "outputs": [],
   "source": []
  }
 ],
 "metadata": {
  "kernelspec": {
   "display_name": "Python 3",
   "language": "python",
   "name": "python3"
  },
  "language_info": {
   "codemirror_mode": {
    "name": "ipython",
    "version": 3
   },
   "file_extension": ".py",
   "mimetype": "text/x-python",
   "name": "python",
   "nbconvert_exporter": "python",
   "pygments_lexer": "ipython3",
   "version": "3.6.1"
  }
 },
 "nbformat": 4,
 "nbformat_minor": 2
}

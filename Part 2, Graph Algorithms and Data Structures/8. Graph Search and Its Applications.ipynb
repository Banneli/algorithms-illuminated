{
 "cells": [
  {
   "cell_type": "markdown",
   "metadata": {},
   "source": [
    "### Introduction\n",
    "\n",
    "We will start with Generig Graph search. Graph Search is an algorithm where, given a graph, G(V, E), with a starting vertex s $\\in$ V, we identify all vertices of G reachable from s\n",
    "\n",
    "\n",
    "The generic graph search algorithm does the following, with the input grapg G = (V, E) and start vertex s\n",
    "\n",
    "```\n",
    "mark s as explored and all other vertices as unexplored\n",
    "\n",
    "while there is an edge (v, w) in E where v is explored and w is not explored:\n",
    "    mark w as explored\n",
    "\n",
    "```\n",
    "\n",
    "---\n",
    "\n",
    "The above algorithm is very abstract and the strategy to pick the edge is not specified. In the above algorithm, the vertex v is in the frontier and we wish to find all edges with one vertex in frontier and other outside. Two strategies that we can look at are \n",
    "\n",
    "- For all vertices in the frontier, explore all edges that go from them to vertices outside the frontier\n",
    "- Another strategy would be \n",
    "    - Pick one vertex in the frontier\n",
    "    - Pick one edge from the this vertex to another vertex not in frontier\n",
    "    - Add this another vertex to the frontier and aggressively keep adding the vertices in the frontier before looking at another vertex, unlike the first strategy\n",
    "    \n",
    "These two approches are BFS(Breadth First Search) and DFS (Depth First Search) algorothms for graph exploration. While they both work for finding all possible vertices reachable from a starting vertex s in time $\\theta(m + n)$, for some use cases we choose one over another.\n",
    "\n",
    "For example, for computing the shortst distance to a vertex from a starting vertex s can be done only using BFS efficiently. Where as some use cases like finding strongly connected components in case of directed graphs, we need DFS.\n",
    "\n"
   ]
  },
  {
   "cell_type": "code",
   "execution_count": 26,
   "metadata": {},
   "outputs": [
    {
     "data": {
      "image/png": "[encoded data removed]",
      "text/plain": [
       "<matplotlib.figure.Figure at 0x11823c160>"
      ]
     },
     "metadata": {},
     "output_type": "display_data"
    }
   ],
   "source": [
    "import warnings\n",
    "warnings.filterwarnings('ignore')\n",
    "\n",
    "import numpy as np\n",
    "import networkx as nx\n",
    "import matplotlib.pyplot as plt\n",
    "\n",
    "#A = np.matrix([[0, 1, 1, 0, 0, 0], \n",
    "#               [1, 0, 0, 1, 0, 0],\n",
    "#               [1, 0, 0, 1, 0, 0],\n",
    "#               [0, 1, 1, 0, 1, 1],               \n",
    "#               [0, 0, 0, 1, 0, 1],\n",
    "#               [0, 0, 0, 1, 1, 0],               \n",
    "#              ])\n",
    "#G = nx.from_numpy_matrix(A)\n",
    "\n",
    "G = nx.Graph()\n",
    "edges = [(0, 1), (0, 2), (2, 3), (1, 3), (3, 4), (3, 5), (4, 5)]\n",
    "G.add_edges_from(edges)\n",
    "nx.draw(G, with_labels = True)\n",
    "plt.show()"
   ]
  },
  {
   "cell_type": "markdown",
   "metadata": {},
   "source": [
    "\n",
    "Consider the above graph, starting from vertex 0 which is at level 0, vertices 1 and 2 are at level 1, vertex 3 at level 2 and vertices 4 and 5 at level 3.\n",
    "\n",
    "BFS will discover these edges in this very order. \n",
    "\n",
    "Following Python code makes use of queues and implements BFS and also give is the level of each of the vertex from a provided starting vertex. We saw how addacency lists can be defined in Python in previous notebook, to avoid copying over the code, we will make use of the graph defined in above cell from python package ``networkx`` to get adjacent edges of a given vertex. "
   ]
  },
  {
   "cell_type": "code",
   "execution_count": 32,
   "metadata": {},
   "outputs": [
    {
     "data": {
      "text/plain": [
       "{0: [1, 2], 1: [0, 3], 2: [0, 3], 3: [2, 1, 4, 5], 4: [3, 5], 5: [3, 4]}"
      ]
     },
     "execution_count": 32,
     "metadata": {},
     "output_type": "execute_result"
    }
   ],
   "source": [
    "adjacency_dict = {v: edges for v, edges in zip(G.nodes(), G.adjacency_list())}\n",
    "adjacency_dict"
   ]
  },
  {
   "cell_type": "markdown",
   "metadata": {},
   "source": [
    "\n",
    "If we look at the above dictionary, the key of the dictionary is the vertex and the value is  the list of edges connected to it. With this dictionary, let us use bfs to find the level of vertices starting with vertex 0 as the starting vertex and see of we get the levels we expect.\n"
   ]
  },
  {
   "cell_type": "code",
   "execution_count": 45,
   "metadata": {},
   "outputs": [
    {
     "name": "stdout",
     "output_type": "stream",
     "text": [
      "Node 0 is at level 0\n",
      "Node 1 is at level 1\n",
      "Node 2 is at level 1\n",
      "Node 3 is at level 2\n",
      "Node 4 is at level 3\n",
      "Node 5 is at level 3\n"
     ]
    }
   ],
   "source": [
    "def bfs(adg_dict, start_vertex):\n",
    "    from queue import Queue\n",
    "    import math\n",
    "    \n",
    "    #1. Create queue, we will add tuple of the vertex and level\n",
    "    q = Queue()\n",
    "    \n",
    "    #2. Initialize all levels to infinite. Any vertex not reachable from start_vertex will stay infinite\n",
    "    levels = [math.inf] * len(adg_dict.keys())\n",
    "    \n",
    "    #3. Set of explored vertices\n",
    "    explored = set()\n",
    "    \n",
    "    #4. Start by putting the start_vertex as level 0\n",
    "    q.put((start_vertex, 0))\n",
    "    \n",
    "    #5. Mark, start vertex as explored\n",
    "    explored.add(start_vertex)\n",
    "    \n",
    "    #6. Iterate till we have no more elements in the queue\n",
    "    while not q.empty():\n",
    "        #7. Get the vertex and its level (stored as tuple) from head of the queue\n",
    "        vertex, level = q.get()\n",
    "        \n",
    "        #8. Store the level of the vertex in the list (remember, we will never visit the vertex more than once)\n",
    "        levels[vertex] = level\n",
    "        \n",
    "        #9. Get adjacent vertices of this vertex\n",
    "        for v in adg_dict[vertex]:\n",
    "            \n",
    "            #10. Mark them as explored, we dont want to add them to queue if we come across this vertex again\n",
    "            if v not in explored:                \n",
    "                explored.add(v)\n",
    "                \n",
    "                #11. The level of this vertex is one more than the one we used to get this vertex\n",
    "                q.put((v, level + 1))\n",
    "\n",
    "    #12. Once the queue is empty, all vertices reachable from the start are explored, return the list with \n",
    "    #the levels of the vertices\n",
    "    return levels\n",
    "    \n",
    "levels = bfs(adjacency_dict, 0)\n",
    "for v, l in zip(adjacency_dict.keys(), levels):\n",
    "    print('Node %d is at level %d'%(v, l))"
   ]
  },
  {
   "cell_type": "markdown",
   "metadata": {},
   "source": [
    "\n",
    "This is what we expected to get. "
   ]
  }
 ],
 "metadata": {
  "kernelspec": {
   "display_name": "Python 3",
   "language": "python",
   "name": "python3"
  },
  "language_info": {
   "codemirror_mode": {
    "name": "ipython",
    "version": 3
   },
   "file_extension": ".py",
   "mimetype": "text/x-python",
   "name": "python",
   "nbconvert_exporter": "python",
   "pygments_lexer": "ipython3",
   "version": "3.6.1"
  }
 },
 "nbformat": 4,
 "nbformat_minor": 2
}

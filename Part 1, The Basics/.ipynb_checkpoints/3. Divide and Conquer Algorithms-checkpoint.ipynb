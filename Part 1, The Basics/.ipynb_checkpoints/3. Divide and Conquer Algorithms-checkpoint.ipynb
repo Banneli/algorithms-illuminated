{
 "cells": [
  {
   "cell_type": "markdown",
   "metadata": {},
   "source": [
    "### Divide and Conquer algorithms\n",
    "\n",
    "In this notebook we will code and analyse the following three divide and conquer algorithms.\n",
    "\n",
    "1. Counting the number of inversions\n",
    "2. Matrix multiplication using Strassen's algorithm\n",
    "3. Computing the closest points together.\n",
    "\n",
    "\n",
    "#### Counting the Number of inversions\n",
    "\n",
    "Counting the number of inversions is a measure of how similar (or not similar) are two arrays of numbers. This algorithm is used in recommender systems where the system recommends something (say a movie) to the consumer based on how similar their rating is to other people who rated similarly.\n",
    "\n",
    "We will use divide and conquer algorithm like Merge sort to find the number of inversions in an array. The number of inversions in an array A are the number of pairs of indices $(i, j)$ where $i < j$ and $A[i] < A[j]$\n",
    "\n",
    "An array that is sorted has no inversions, the converse is also true, that is, an array with no inversions is sorted and is not sorted if it has atleast one inversion.\n",
    "\n",
    "For example, consider the following array\n",
    "\n",
    "1 3 5 2 4 6\n",
    "\n",
    "The number of inversions in this array are the following pair of numbers\n",
    "(3, 2), (5, 2) and (5, 4)\n",
    "\n",
    "For an array of n numbers, we can have a maxumum of (n - 1) + (n - 2) + .. + 1 number of inversions = $n(n - 1) / 2$ number of inversions.\n",
    "\n",
    "\n",
    "Let us implement ``counting inversion`` in two different ways. First one is the Bruteforce approach and the second one is using divide and conquer approach that sorts the numbers using Merge Sort along with counting the number of inversions.\n",
    "\n"
   ]
  },
  {
   "cell_type": "code",
   "execution_count": 1,
   "metadata": {
    "collapsed": true
   },
   "outputs": [],
   "source": [
    "def count_inv_brute_force(array):\n",
    "    num_inversions = 0\n",
    "    for i in range(len(array)):\n",
    "        for j in range(i + 1, len(array)):\n",
    "            if array[i] > array[j]:\n",
    "                num_inversions += 1\n",
    "            \n",
    "    return num_inversions\n",
    "                "
   ]
  },
  {
   "cell_type": "code",
   "execution_count": 2,
   "metadata": {},
   "outputs": [
    {
     "data": {
      "text/plain": [
       "3"
      ]
     },
     "execution_count": 2,
     "metadata": {},
     "output_type": "execute_result"
    }
   ],
   "source": [
    "count_inv_brute_force([1, 3, 5, 2, 4, 6])"
   ]
  },
  {
   "cell_type": "markdown",
   "metadata": {},
   "source": [
    "we will now load the two test case files provided [here](http://theory.stanford.edu/~tim/algorithmsilluminated.html) and test our implementation. "
   ]
  },
  {
   "cell_type": "code",
   "execution_count": 5,
   "metadata": {
    "collapsed": true
   },
   "outputs": [],
   "source": [
    "with open('problem3.5test.txt', 'r') as f:\n",
    "    lines = f.readlines()\n",
    "prob35test = [int(line.strip()) for line in lines]\n",
    "\n",
    "with open('problem3.5.txt', 'r') as f:\n",
    "    lines = f.readlines()\n",
    "prob35 = [int(line.strip()) for line in lines]\n"
   ]
  },
  {
   "cell_type": "code",
   "execution_count": 7,
   "metadata": {},
   "outputs": [
    {
     "data": {
      "text/plain": [
       "28"
      ]
     },
     "execution_count": 7,
     "metadata": {},
     "output_type": "execute_result"
    }
   ],
   "source": [
    "count_inv_brute_force(prob35test)"
   ]
  },
  {
   "cell_type": "markdown",
   "metadata": {},
   "source": [
    "\n",
    "The brute force approach seems to be working fine for small inputs, it will however not work for efficiently on the larger 100000 numbers for counting the inversions. We will now implement the inversion counting piggy backed on merge sort "
   ]
  },
  {
   "cell_type": "code",
   "execution_count": 22,
   "metadata": {},
   "outputs": [],
   "source": [
    "def count_inversions_and_sort(array1, array2):\n",
    "    #\n",
    "    # Returns a tuple of the number inversions and the sorted array\n",
    "    #\n",
    "    res = []\n",
    "    num_inv = 0\n",
    "    i = 0\n",
    "    j = 0\n",
    "    l1 = len(array1)\n",
    "    l2 = len(array2)\n",
    "    for _ in range(l1 + l2):\n",
    "        if i == l1:\n",
    "            res += [array2[x] for x in range(j, l2)]\n",
    "            break\n",
    "        if j == l2:\n",
    "            res += [array1[x] for x in range(i, l1)]\n",
    "            break\n",
    "            \n",
    "        if array1[i] < array2[j]:\n",
    "            res.append(array1[i])\n",
    "            i += 1\n",
    "        else:\n",
    "            res.append(array2[j])\n",
    "            j += 1\n",
    "            num_inv += (l1 - i)\n",
    "            \n",
    "    return (num_inv, res)\n",
    "    "
   ]
  },
  {
   "cell_type": "code",
   "execution_count": 29,
   "metadata": {},
   "outputs": [],
   "source": [
    "def sort_and_count_inversions(array):\n",
    "    if len(array) == 1:\n",
    "        return (0, array)\n",
    "    \n",
    "    i = len(array) // 2\n",
    "    l_inv, left = sort_and_count_inversions(array[0:i])\n",
    "    r_inv, right = sort_and_count_inversions(array[i:])\n",
    "    split_inv, merged = count_inversions_and_sort(left, right)\n",
    "    return (l_inv + r_inv + split_inv, merged)"
   ]
  },
  {
   "cell_type": "code",
   "execution_count": 34,
   "metadata": {},
   "outputs": [
    {
     "name": "stdout",
     "output_type": "stream",
     "text": [
      "Number of splits in test array are 28\n",
      "Number of splits in the big array are 2407905288\n"
     ]
    }
   ],
   "source": [
    "splits, _ = sort_and_count_inversions(prob35test)\n",
    "print('Number of splits in test array are',splits)\n",
    "\n",
    "splits, _ = sort_and_count_inversions(prob35)\n",
    "print('Number of splits in the big array are',splits)\n"
   ]
  },
  {
   "cell_type": "code",
   "execution_count": null,
   "metadata": {
    "collapsed": true
   },
   "outputs": [],
   "source": []
  }
 ],
 "metadata": {
  "kernelspec": {
   "display_name": "Python 3",
   "language": "python",
   "name": "python3"
  },
  "language_info": {
   "codemirror_mode": {
    "name": "ipython",
    "version": 3
   },
   "file_extension": ".py",
   "mimetype": "text/x-python",
   "name": "python",
   "nbconvert_exporter": "python",
   "pygments_lexer": "ipython3",
   "version": "3.6.1"
  }
 },
 "nbformat": 4,
 "nbformat_minor": 2
}

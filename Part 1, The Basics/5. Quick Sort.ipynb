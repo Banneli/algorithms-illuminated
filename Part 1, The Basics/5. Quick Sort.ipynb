{
 "cells": [
  {
   "cell_type": "markdown",
   "metadata": {},
   "source": [
    "### 5. Quick Sort\n",
    "\n",
    "In this notebook we will be looking at quick sort in details and will be doing the worst and average running time analysis.\n",
    "\n",
    "In this notebook I will not explaining how quicksort works with examples rather go ahead and implement the bits of quick sort which by itself is self explanatory. The interesting part of the notebook is the proof for correctness and the running time analysis ofthe quicksort\n",
    "\n",
    "---\n",
    "\n",
    "Following code gives us the an implementation of in place partitioning of input array. The assumption is that the first element of the list will act as the pivot, before we implement the partition, let us implement a swap function that will swap values of two given index of an array. The partition sub routine apart from partitioning the \n",
    "\n"
   ]
  },
  {
   "cell_type": "code",
   "execution_count": 142,
   "metadata": {
    "collapsed": true
   },
   "outputs": [],
   "source": [
    "def swap(in_array, ix1, ix2):\n",
    "    t = in_array[ix1]\n",
    "    in_array[ix1] = in_array[ix2]\n",
    "    in_array[ix2] = t"
   ]
  },
  {
   "cell_type": "code",
   "execution_count": 143,
   "metadata": {},
   "outputs": [],
   "source": [
    "def partition(in_array, start_ix, end_ix):\n",
    "    #Partitions the input array in place and returns the index of the pivot element\n",
    "    #in the partitioned array and the number of comparisons performed which is required for the analysis\n",
    "    #of the number of comparisons performed.\n",
    "    partition_idx = start_ix\n",
    "    i = start_ix\n",
    "    pivot = in_array[partition_idx]\n",
    "    ncomparisons = 0\n",
    "    for idx in range(start_ix + 1, end_ix):\n",
    "        ncomparisons += 1\n",
    "        if in_array[idx] <=  pivot:\n",
    "            i += 1\n",
    "            if idx != i: #Prevent unnecessary swaps                \n",
    "                t = in_array[i]\n",
    "                in_array[i] = in_array[idx]\n",
    "                in_array[idx] = t\n",
    "    \n",
    "    swap(in_array, start_ix, i)\n",
    "    partition_idx = i\n",
    "    \n",
    "    return partition_idx , ncomparisons"
   ]
  },
  {
   "cell_type": "code",
   "execution_count": 144,
   "metadata": {},
   "outputs": [
    {
     "name": "stdout",
     "output_type": "stream",
     "text": [
      "When Pivot is an Intermediate number (3, 6)\n",
      "When Pivot is the Maximum number (6, 6)\n",
      "When Pivot is the Minimum number (0, 6)\n",
      "Input array is same as the example in book (2, 7)\n"
     ]
    }
   ],
   "source": [
    "print('When Pivot is an Intermediate number', partition([3, 2, 1, 5, 0, 7, 8], 0, 7))\n",
    "print('When Pivot is the Maximum number', partition([8, 2, 1, 5, 0, 7, 3], 0, 7))\n",
    "print('When Pivot is the Minimum number', partition([0, 2, 1, 5, 8, 7, 3], 0, 7))\n",
    "print('Input array is same as the example in book', partition([3, 8, 2, 5, 1, 4, 7, 6], 0, 8))"
   ]
  },
  {
   "cell_type": "markdown",
   "metadata": {},
   "source": [
    "\n",
    "With a working partition function, let us put in place a quick sort function. Ihe impementation is pretty simple and as against merge sort, where we have the merge function after the recursive calls, in quicksort, we perform a linear scan for partition first, followed by the recursive calls on smaller arrays."
   ]
  },
  {
   "cell_type": "code",
   "execution_count": 145,
   "metadata": {},
   "outputs": [],
   "source": [
    "def quicksort(in_array, start_ix = 0, end_ix = -1, choose_pivot = lambda x, y, z: y):\n",
    "    #Quick sort on the input array, the choose_pivot is a function that returns the index\n",
    "    #of the element in the in_array which will be a pivot. Default strategy is to use the first element as pivot\n",
    "    end_ix = len(in_array) if end_ix == -1 else end_ix\n",
    "    if start_ix >= end_ix: #Base case\n",
    "        return 0\n",
    "\n",
    "    p_ix = choose_pivot(in_array, start_ix, end_ix)\n",
    "    #print('Before chosing Pivot', in_array)\n",
    "    #Swap to set to pivot\n",
    "    swap(in_array, p_ix, start_ix)\n",
    "    #print('Before partition', in_array)\n",
    "    pivot_ix, comparisons = partition(in_array, start_ix, end_ix)\n",
    "    #print(start_ix, end_ix, pivot_ix, comparisons, in_array)\n",
    "    left = quicksort(in_array, start_ix, pivot_ix, choose_pivot)\n",
    "    right = quicksort(in_array, pivot_ix + 1, end_ix, choose_pivot)\n",
    "    return left + right + comparisons\n"
   ]
  },
  {
   "cell_type": "code",
   "execution_count": 146,
   "metadata": {},
   "outputs": [
    {
     "name": "stdout",
     "output_type": "stream",
     "text": [
      "Sorting array [3, 2, 1, 5, 0, 7, 8] gives [0, 1, 2, 3, 5, 7, 8]\n",
      "Sorting array [3, 8, 2, 5, 1, 4, 7, 6]  gives [1, 2, 3, 4, 5, 6, 7, 8]\n"
     ]
    }
   ],
   "source": [
    "x = [3, 2, 1, 5, 0, 7, 8]\n",
    "quicksort(x)\n",
    "print('Sorting array [3, 2, 1, 5, 0, 7, 8] gives', x)\n",
    "x = [3, 8, 2, 5, 1, 4, 7, 6]\n",
    "quicksort(x)\n",
    "print('Sorting array [3, 8, 2, 5, 1, 4, 7, 6]  gives', x)"
   ]
  },
  {
   "cell_type": "markdown",
   "metadata": {},
   "source": [
    "---\n",
    "\n",
    "We see above that the sorting function works well. However the efficiency of Quick sort vastly depends on how even the chosen pivot splits in input array into. Thus the choice of Pivot function is extremely crucial for the running time of the Quick sort algorithm. We know Merge sort runs in $O(nlog n)$ time and thats what we aim for. The benefit of quick sort over Merge sort is that it requires no extra memory apart from the constant memory required to store the variables. \n",
    "The simplest way to choose a pivot, is to always choose the first element of the input array.\n",
    "\n",
    "Suppose with this approach, we end up attempting to sort an already sorted array, then by picking up the first element in the list, we do not get a left and a right split but all elements in the right (or left, depending on sorted and sorting order) split except the pivot. This will continue to happen till the entire array is sorted. This is most possible uneven split we can get in Quick sort and we will end up comparing the pivot with all remaining numbers to be sorted, this giving us a worst case time complexity of $O(n^2)$\n",
    "\n",
    "Another extreme scenario is to implement a choose pivot function that select the median of available values in the left or right side of the array. Assuming that the operation to choose the pivot is a linear time operation (which we will see in next chapter) we can then perform the operation to find the pivot (which is a perfect median of the values we are partioning) and the partition collectively is done in linear time(with high constants, but these are suppressed in Big Oh notations). Thus \n",
    "\n",
    "$T(n) \\leq 2\\cdot T(\\frac{n}{2}) + O(n)$\n",
    "\n",
    "By master method this a divide and conquer algorithm that runs in $O(n log n)$ time. Note that for any other implementation of ``choose pivot`` function, we cannot use master method as the input is not necessarily evenly split. However, when the pivot chosen is guaranteed to be a median of the array being partioned, we are guaranteed an even split.\n",
    "\n",
    "Thus we have seen how a good ``choose pivot`` functionality decides the runing time of the quick sort algorithm\n",
    "\n",
    "---\n",
    "\n",
    "Before we continue with the the analysis of the running time of Quick Sort algorithm, let us, prove the correctness of the algorithm\n",
    "\n",
    "The correctness is proven by proving the following 2\n",
    "\n",
    "- Prove the correctness of the partioning routine\n",
    "- Given the previous, use induction to prove the correctness of the quick sort algorithm\n",
    "\n",
    "TODO\n",
    "\n",
    "\n",
    "---\n",
    "\n",
    "\n"
   ]
  },
  {
   "cell_type": "code",
   "execution_count": null,
   "metadata": {
    "collapsed": true
   },
   "outputs": [],
   "source": []
  },
  {
   "cell_type": "code",
   "execution_count": null,
   "metadata": {
    "collapsed": true
   },
   "outputs": [],
   "source": []
  },
  {
   "cell_type": "code",
   "execution_count": null,
   "metadata": {
    "collapsed": true
   },
   "outputs": [],
   "source": []
  },
  {
   "cell_type": "code",
   "execution_count": null,
   "metadata": {
    "collapsed": true
   },
   "outputs": [],
   "source": []
  },
  {
   "cell_type": "markdown",
   "metadata": {},
   "source": [
    "### Test Your Understanding\n",
    "\n",
    "---\n",
    "\n",
    "#### Problem 5.1\n",
    "\n",
    "---\n",
    "\n",
    "#### Problem 5.2\n",
    "\n",
    "---\n",
    "\n",
    "#### Problem 5.3\n",
    "\n",
    "---\n",
    "\n",
    "#### Problem 5.4\n",
    "\n",
    "---\n",
    "\n",
    "\n",
    "#### Problem 5.5\n",
    "\n",
    "---\n",
    "\n",
    "#### Problem 5.6\n",
    "\n",
    "To facilitate reading numbers from a file, we will implement a function which given the file name returns a list of integers"
   ]
  },
  {
   "cell_type": "code",
   "execution_count": 140,
   "metadata": {
    "collapsed": true
   },
   "outputs": [],
   "source": [
    "def to_int_array(fileName):\n",
    "    with open(fileName, 'r') as f:\n",
    "        lines = f.readlines()\n",
    "        return [int(line.strip()) for line in lines]"
   ]
  },
  {
   "cell_type": "code",
   "execution_count": 141,
   "metadata": {},
   "outputs": [
    {
     "name": "stdout",
     "output_type": "stream",
     "text": [
      "Test 1: Num comparisons with First, Last and Median of 3 are 25 31 21 respectively\n",
      "Test 2: Num comparisons with First, Last and Median of 3 are 620 573 502 respectively\n",
      "Problem: Num comparisons with First, Last and Median of 3 are 162085 164123 138382 respectively\n"
     ]
    }
   ],
   "source": [
    "def median_of_3_index(array, start_idx, end_idx):\n",
    "    #for an between start_idx and end_idx, find the element sitting in between these and then return the \n",
    "    #index of the number whose value is a median of the thee value\n",
    "    s_val = array[start_idx]\n",
    "    e_val = array[end_idx]\n",
    "    m_idx = start_idx + (end_idx - start_idx) // 2\n",
    "    m_val = array[m_idx]\n",
    "    max_v = max([s_val, e_val, m_val])\n",
    "    min_v = min([s_val, e_val, m_val])\n",
    "\n",
    "    return start_idx if s_val != max_v and  s_val != min_v else end_idx if e_val != max_v and e_val != min_v else m_idx\n",
    "    \n",
    "    \n",
    "prob56t1 = to_int_array('problem5.6test1.txt')\n",
    "#Quick sort with first number as pivot\n",
    "numcomp_p1 = quicksort(prob56t1)\n",
    "prob56t1 = to_int_array('problem5.6test1.txt')\n",
    "numcomp_p2 = quicksort(prob56t1, choose_pivot = lambda x, y, z: z - 1)\n",
    "prob56t1 = to_int_array('problem5.6test1.txt')\n",
    "numcomp_p3 = quicksort(prob56t1, choose_pivot = lambda x, y, z: median_of_3_index(x, y, z - 1))\n",
    "print('Test 1: Num comparisons with First, Last and Median of 3 are',numcomp_p1, numcomp_p2, numcomp_p3, 'respectively')\n",
    "\n",
    "prob56t2 = to_int_array('problem5.6test2.txt')\n",
    "#Quick sort with first number as pivot\n",
    "numcomp_p1 = quicksort(prob56t2)\n",
    "prob56t2 = to_int_array('problem5.6test2.txt')\n",
    "numcomp_p2 = quicksort(prob56t2, choose_pivot = lambda x, y, z: z - 1)\n",
    "prob56t2 = to_int_array('problem5.6test2.txt')\n",
    "numcomp_p3 = quicksort(prob56t2, choose_pivot = lambda x, y, z: median_of_3_index(x, y, z - 1))\n",
    "print('Test 2: Num comparisons with First, Last and Median of 3 are',numcomp_p1, numcomp_p2, numcomp_p3, 'respectively')\n",
    "\n",
    "prob56 = to_int_array('problem5.6.txt')\n",
    "#Quick sort with first number as pivot\n",
    "numcomp_p1 = quicksort(prob56)\n",
    "prob56 = to_int_array('problem5.6.txt')\n",
    "numcomp_p2 = quicksort(prob56, choose_pivot = lambda x, y, z: z - 1)\n",
    "prob56 = to_int_array('problem5.6.txt')\n",
    "numcomp_p3 = quicksort(prob56, choose_pivot = lambda x, y, z: median_of_3_index(x, y, z - 1))\n",
    "print('Problem: Num comparisons with First, Last and Median of 3 are',numcomp_p1, numcomp_p2, numcomp_p3, 'respectively')"
   ]
  },
  {
   "cell_type": "code",
   "execution_count": null,
   "metadata": {},
   "outputs": [],
   "source": []
  },
  {
   "cell_type": "code",
   "execution_count": null,
   "metadata": {
    "collapsed": true
   },
   "outputs": [],
   "source": []
  }
 ],
 "metadata": {
  "kernelspec": {
   "display_name": "Python 3",
   "language": "python",
   "name": "python3"
  },
  "language_info": {
   "codemirror_mode": {
    "name": "ipython",
    "version": 3
   },
   "file_extension": ".py",
   "mimetype": "text/x-python",
   "name": "python",
   "nbconvert_exporter": "python",
   "pygments_lexer": "ipython3",
   "version": "3.6.1"
  }
 },
 "nbformat": 4,
 "nbformat_minor": 2
}

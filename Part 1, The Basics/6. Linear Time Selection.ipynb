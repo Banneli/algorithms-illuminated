{
 "cells": [
  {
   "cell_type": "markdown",
   "metadata": {},
   "source": [
    "### Linear Time Selection\n",
    "\n",
    "In this notebook we will look at two types of selection algorithms, the RSelect, or the randomized selection algorithm and a deterministic version called DSelect. But before we proceed the question is \"What is selection?\" A selection problem aims to find the $i^{th}$ smallest number for n given numbers. The simplest approach would be to sort the input array and then select the $i^{th}$ position number essentially doing the selection in $nlogn$ time. This however is not the optimum way as selection if an easier problem than sorting and thus we should achieve this in much less running time than sorting. To select a number from n given numbers, we will have to view all the numbers at the minimum and thus $O(n)$ is a reasonable lower bound and we know that sorting can be done in $O(nlogn)$ which is an upperbound for our problem.\n",
    "\n",
    "Can we do something to possibly perform the selection in $O(n)$ time? Let us implement the selection problem using the partition routine we used in quick sort.\n",
    "\n"
   ]
  },
  {
   "cell_type": "code",
   "execution_count": 47,
   "metadata": {},
   "outputs": [],
   "source": [
    "def swap(in_array, ix1, ix2):\n",
    "    t = in_array[ix1]\n",
    "    in_array[ix1] = in_array[ix2]\n",
    "    in_array[ix2] = t\n",
    "    \n",
    "def partition(in_array, start_ix, end_ix):\n",
    "\n",
    "    partition_idx = start_ix\n",
    "    i = start_ix\n",
    "    pivot = in_array[partition_idx]\n",
    "    for idx in range(start_ix + 1, end_ix):\n",
    "        if in_array[idx] <=  pivot:\n",
    "            i += 1\n",
    "            if idx != i:\n",
    "                swap(in_array, i, idx)\n",
    "\n",
    "    swap(in_array, start_ix, i)\n",
    "    partition_idx = i\n",
    "    \n",
    "    return partition_idx\n",
    "\n",
    "def RSelect(array, i, start_ix = 0, end_ix = -1):\n",
    "    #From a given array, find the ith order statistic\n",
    "    end_ix = len(array) if end_ix == -1 else end_ix    \n",
    "    pivot_idx  = partition(array, start_ix, end_ix)    \n",
    "    stat = pivot_idx - start_ix + 1\n",
    "    if i == stat:\n",
    "        return array[pivot_idx]\n",
    "    elif i < stat:\n",
    "        return RSelect(array, i, start_ix, pivot_idx)\n",
    "    else:\n",
    "        return RSelect(array, i - stat, pivot_idx + 1, end_ix)"
   ]
  },
  {
   "cell_type": "code",
   "execution_count": 49,
   "metadata": {},
   "outputs": [
    {
     "name": "stdout",
     "output_type": "stream",
     "text": [
      "1st Order stat is 1\n",
      "2nd Order stat is 2\n",
      "3rd Order stat is 3\n",
      "4th Order stat is 4\n",
      "5th Order stat is 5\n",
      "6th Order stat is 6\n",
      "7th Order stat is 7\n",
      "8th Order stat is 8\n"
     ]
    }
   ],
   "source": [
    "print('1st Order stat is', RSelect([3, 8, 2, 5, 1, 4, 7, 6], 1))\n",
    "print('2nd Order stat is', RSelect([3, 8, 2, 5, 1, 4, 7, 6], 2))\n",
    "print('3rd Order stat is', RSelect([3, 8, 2, 5, 1, 4, 7, 6], 3))\n",
    "print('4th Order stat is', RSelect([3, 8, 2, 5, 1, 4, 7, 6], 4))\n",
    "print('5th Order stat is', RSelect([3, 8, 2, 5, 1, 4, 7, 6], 5))\n",
    "print('6th Order stat is', RSelect([3, 8, 2, 5, 1, 4, 7, 6], 6))\n",
    "print('7th Order stat is', RSelect([3, 8, 2, 5, 1, 4, 7, 6], 7))\n",
    "print('8th Order stat is', RSelect([3, 8, 2, 5, 1, 4, 7, 6], 8))"
   ]
  },
  {
   "cell_type": "code",
   "execution_count": null,
   "metadata": {
    "collapsed": true
   },
   "outputs": [],
   "source": []
  }
 ],
 "metadata": {
  "kernelspec": {
   "display_name": "Python 3",
   "language": "python",
   "name": "python3"
  },
  "language_info": {
   "codemirror_mode": {
    "name": "ipython",
    "version": 3
   },
   "file_extension": ".py",
   "mimetype": "text/x-python",
   "name": "python",
   "nbconvert_exporter": "python",
   "pygments_lexer": "ipython3",
   "version": "3.6.1"
  }
 },
 "nbformat": 4,
 "nbformat_minor": 2
}

{
 "cells": [
  {
   "cell_type": "markdown",
   "metadata": {},
   "source": [
    "### Divide and Conquer algorithms\n",
    "\n",
    "In this notebook we will code and analyse the following three divide and conquer algorithms.\n",
    "\n",
    "1. Counting the number of inversions\n",
    "2. Matrix multiplication using Strassen's algorithm\n",
    "3. Computing the closest points together.\n",
    "\n",
    "\n",
    "#### Counting the Number of inversions\n",
    "\n",
    "Counting the number of inversions is a measure of how similar (or not similar) are two arrays of numbers. This algorithm is used in recommender systems where the system recommends something (say a movie) to the consumer based on how similar their rating is to other people who rated similarly.\n",
    "\n",
    "Collaborative Filtering is a technique where we try to find similarities between likes of people. Suppose we want to find similarities of the movie rankings of two people, we will sort movies by ranking of one person's preference and then put ranks given by the second person for those movies. \n",
    "\n",
    "For example if your ranked 3 movies A, B and C as your favorite movies and your friend ranked their favorite movies as B A C then between you and the your friend the ranking list becomes 2 1 3 because A is your favorite movie but is second favorite for B. Similarly B is your second favorite movie but your friend's favorite. Both you and your friend's choice match for the third best movie.\n",
    "\n",
    "From the above example we see that if two people have similar tastes, both the arrays would be identical and there would be no inversions. Higher the number of inversions more are the differences in the preferences.\n",
    "\n",
    "We will use divide and conquer algorithm like Merge sort to find the number of inversions in an array. The number of inversions in an array A are the number of pairs of indices $(i, j)$ where $i < j$ and $A[i] < A[j]$\n",
    "\n",
    "An array that is sorted has no inversions, the converse is also true, that is, an array with no inversions is sorted and is not sorted if it has atleast one inversion.\n",
    "\n",
    "For example, consider the following array\n",
    "\n",
    "1 3 5 2 4 6\n",
    "\n",
    "The number of inversions in this array are the following pair of numbers\n",
    "(3, 2), (5, 2) and (5, 4)\n",
    "\n",
    "For an array of n numbers, we can have a maxumum of (n - 1) + (n - 2) + .. + 1 number of inversions = $n(n - 1) / 2$ number of inversions.\n",
    "\n",
    "\n",
    "Let us implement ``counting inversion`` in two different ways. First one is the Bruteforce approach and the second one is using divide and conquer approach that sorts the numbers using Merge Sort along with counting the number of inversions.\n",
    "\n"
   ]
  },
  {
   "cell_type": "code",
   "execution_count": 1,
   "metadata": {
    "collapsed": true
   },
   "outputs": [],
   "source": [
    "def count_inv_brute_force(array):\n",
    "    num_inversions = 0\n",
    "    for i in range(len(array)):\n",
    "        for j in range(i + 1, len(array)):\n",
    "            if array[i] > array[j]:\n",
    "                num_inversions += 1\n",
    "            \n",
    "    return num_inversions\n",
    "                "
   ]
  },
  {
   "cell_type": "code",
   "execution_count": 2,
   "metadata": {},
   "outputs": [
    {
     "data": {
      "text/plain": [
       "3"
      ]
     },
     "execution_count": 2,
     "metadata": {},
     "output_type": "execute_result"
    }
   ],
   "source": [
    "count_inv_brute_force([1, 3, 5, 2, 4, 6])"
   ]
  },
  {
   "cell_type": "markdown",
   "metadata": {},
   "source": [
    "we will now load the two test case files provided [here](http://theory.stanford.edu/~tim/algorithmsilluminated.html) and test our implementation. "
   ]
  },
  {
   "cell_type": "code",
   "execution_count": 5,
   "metadata": {
    "collapsed": true
   },
   "outputs": [],
   "source": [
    "with open('problem3.5test.txt', 'r') as f:\n",
    "    lines = f.readlines()\n",
    "prob35test = [int(line.strip()) for line in lines]\n",
    "\n",
    "with open('problem3.5.txt', 'r') as f:\n",
    "    lines = f.readlines()\n",
    "prob35 = [int(line.strip()) for line in lines]\n"
   ]
  },
  {
   "cell_type": "code",
   "execution_count": 7,
   "metadata": {},
   "outputs": [
    {
     "data": {
      "text/plain": [
       "28"
      ]
     },
     "execution_count": 7,
     "metadata": {},
     "output_type": "execute_result"
    }
   ],
   "source": [
    "count_inv_brute_force(prob35test)"
   ]
  },
  {
   "cell_type": "markdown",
   "metadata": {},
   "source": [
    "\n",
    "The brute force approach seems to be working fine for small inputs, it will however not work for efficiently on the larger 100000 numbers for counting the inversions. We will now implement the inversion counting piggy backed on merge sort "
   ]
  },
  {
   "cell_type": "code",
   "execution_count": 35,
   "metadata": {},
   "outputs": [],
   "source": [
    "def count_inversions_and_sort(array1, array2):\n",
    "    #\n",
    "    # Returns a tuple of the number inversions and the sorted array\n",
    "    #\n",
    "    res = []\n",
    "    num_inv = 0\n",
    "    i = 0\n",
    "    j = 0\n",
    "    l1 = len(array1)\n",
    "    l2 = len(array2)\n",
    "    for _ in range(l1 + l2):\n",
    "        if i == l1:\n",
    "            res += [array2[x] for x in range(j, l2)]\n",
    "            break\n",
    "        if j == l2:\n",
    "            res += [array1[x] for x in range(i, l1)]\n",
    "            break\n",
    "            \n",
    "        if array1[i] < array2[j]:\n",
    "            res.append(array1[i])\n",
    "            i += 1\n",
    "        else:\n",
    "            res.append(array2[j])\n",
    "            j += 1\n",
    "            #If array1[i] is less than array2[j] then all remaining elements of\n",
    "            #array1 also are guaranteed to be larger than array2[j] since both array1 and array2 \n",
    "            #are sorted. Thus the number of elements in array1 (including the current) will have split inversions\n",
    "            #with the current element in array2            \n",
    "            num_inv += (l1 - i)\n",
    "            \n",
    "    return (num_inv, res)\n",
    "    "
   ]
  },
  {
   "cell_type": "code",
   "execution_count": 29,
   "metadata": {},
   "outputs": [],
   "source": [
    "def sort_and_count_inversions(array):\n",
    "    if len(array) == 1:\n",
    "        return (0, array)\n",
    "    \n",
    "    i = len(array) // 2\n",
    "    l_inv, left = sort_and_count_inversions(array[0:i])\n",
    "    r_inv, right = sort_and_count_inversions(array[i:])\n",
    "    split_inv, merged = count_inversions_and_sort(left, right)\n",
    "    return (l_inv + r_inv + split_inv, merged)"
   ]
  },
  {
   "cell_type": "code",
   "execution_count": 34,
   "metadata": {},
   "outputs": [
    {
     "name": "stdout",
     "output_type": "stream",
     "text": [
      "Number of splits in test array are 28\n",
      "Number of splits in the big array are 2407905288\n"
     ]
    }
   ],
   "source": [
    "splits, _ = sort_and_count_inversions(prob35test)\n",
    "print('Number of splits in test array are',splits)\n",
    "\n",
    "splits, _ = sort_and_count_inversions(prob35)\n",
    "print('Number of splits in the big array are',splits)\n"
   ]
  },
  {
   "cell_type": "markdown",
   "metadata": {},
   "source": [
    "\n",
    "\n",
    "The divide and conquer method ``sort_and_count_inversions`` is trivial. All we do is to count the number of inversions on the left and right and get the corresponding halves sorted. We then find the split inversions and also merge the two sorted arrays. The total inversions are the number of inversions on the left plus the ones on the right plus the number of split inversions.\n",
    "\n",
    "The ingenuity lies in the ``count_inversions_and_sort`` function. This function piggy backs on the merge sort function and counts the number of inversions along with sorting the array. The function defined above is pretty straight forward and has comments inline giving explanation.\n",
    "\n",
    "If we have no inversions in a array A and we receive two halves of an array, then the elements in first half are strictly less than the elements in second half.\n",
    "\n",
    "The ``sort_and_count_inversions`` splits the input array in two and recursively sorts and counts inversions on the left and right half. The number of tasks at level n doubles than that of level n - 1 and input size given to each of task at level n is half of the input given to a unit on n - 1 level. This is similar to merge sort and given that the routine to sort and count inversions execute in linear time, the count ``sort_and_count_inversions`` also runs in $O(nlogn)$ time\n",
    "\n",
    "---\n",
    "#### Strassen's Matrix multiplication Algorithm\n",
    "\n",
    "Stratten's Matrix multiplication algorithm is a clever divide and conquer approach for multiplying two matrix. Before we see the details of matrix multiplication using Strassen's approach, let us implement matrix multiplication using simple, straight forward approach.\n",
    "\n",
    "For simplicity of implementing divide and conquer algorithms, we will assume that the matrix square and each side is a power of 2."
   ]
  },
  {
   "cell_type": "code",
   "execution_count": 57,
   "metadata": {
    "collapsed": true
   },
   "outputs": [],
   "source": [
    "def mult_simple(A, B):\n",
    "    dim = len(A[0])\n",
    "    Z = [[0 for _ in range(dim)] for _ in range(dim)]\n",
    "    for i in range(dim):\n",
    "        for j in range(dim):\n",
    "            Z[i][j] = sum([A[i][k] * B[k][j] for k in range(dim)])\n",
    "                \n",
    "    return Z                "
   ]
  },
  {
   "cell_type": "code",
   "execution_count": 64,
   "metadata": {},
   "outputs": [
    {
     "name": "stdout",
     "output_type": "stream",
     "text": [
      "[[90, 100, 110, 120], [202, 228, 254, 280], [314, 356, 398, 440], [426, 484, 542, 600]]\n"
     ]
    }
   ],
   "source": [
    "print(mult_simple([[1, 2, 3, 4], [5, 6, 7, 8], [9, 10, 11, 12], [13, 14, 15, 16]], \n",
    "                  [[1, 2, 3, 4], [5, 6, 7, 8], [9, 10, 11, 12], [13, 14, 15, 16]]))"
   ]
  },
  {
   "cell_type": "markdown",
   "metadata": {},
   "source": [
    "\n",
    "\n",
    "Since there are three loops in the above multiplication (with variables i, j and k for each loop counter). The time complexity of a matrix multiplication is $O(n^3)$.\n",
    "\n",
    "Before we go ahead and implement a recursive divide and conquer algorithm, let us verify our result are correct by using a reference implementation."
   ]
  },
  {
   "cell_type": "code",
   "execution_count": 65,
   "metadata": {},
   "outputs": [
    {
     "data": {
      "text/plain": [
       "matrix([[ 90, 100, 110, 120],\n",
       "        [202, 228, 254, 280],\n",
       "        [314, 356, 398, 440],\n",
       "        [426, 484, 542, 600]])"
      ]
     },
     "execution_count": 65,
     "metadata": {},
     "output_type": "execute_result"
    }
   ],
   "source": [
    "import numpy as np\n",
    "A = np.matrix([[1, 2, 3, 4], [5, 6, 7, 8], [9, 10, 11, 12], [13, 14, 15, 16]])\n",
    "A * A"
   ]
  },
  {
   "cell_type": "markdown",
   "metadata": {},
   "source": [
    "\n",
    "The divide and conquer approach will break split an $n \\times n$ matrix into 4 $\\frac{n}{2} \\times \\frac{n}{2}$ matrix and then multiple then recursively. Let us illustrate then as below\n",
    "\n",
    "Suppose the bigger matrix X and Y are split in the following two matrices. Then the resulting matrix multiplication is formed by multiplying and these 8 small matrices. This divide and conquer can continue until we get a matrix of size 1 where the recursive divide and conquer stops. This divide and conquer is summarized in the following picture where A, B, C, D and E, F, G, H are smaller matrices of the bigger matrices X and Y respectively.\n",
    "\n",
    "$$\n",
    "\\begin{pmatrix} \n",
    "A & B \\\\\n",
    "C & D \n",
    "\\end{pmatrix}\n",
    "\\times\n",
    "\\begin{pmatrix} \n",
    "E & F \\\\\n",
    "G & H \n",
    "\\end{pmatrix}\n",
    "=\n",
    "\\begin{pmatrix} \n",
    "AE + BG  & AF + BH \\\\\n",
    "CE + DG & CF + DH \n",
    "\\end{pmatrix}\n",
    "$$\n",
    "\n",
    "\n"
   ]
  },
  {
   "cell_type": "code",
   "execution_count": 89,
   "metadata": {
    "collapsed": true
   },
   "outputs": [],
   "source": [
    "def add_matrices(A, B):\n",
    "    #No checks performed for dimension sizes to keep the implementation simple\n",
    "    dim = len(A[0])\n",
    "    return [[A[i][j] + B[i][j] for j in range(dim)] for i in range(dim)]\n",
    "\n",
    "\n",
    "\n",
    "def mult_dc(X, Y):\n",
    "    dim = len(X[0])\n",
    "    if dim == 1:\n",
    "        return [[X[0][0] * Y[0][0]]]\n",
    "    else:\n",
    "        #TODO: Implement the slicing \n",
    "        A = []\n",
    "        B = []\n",
    "        C = []\n",
    "        D = []\n",
    "        E = []\n",
    "        F = []\n",
    "        G = []\n",
    "        H = []\n",
    "        AE = mult_dc(A, E)\n",
    "        BG = mult_dc(B, G)\n",
    "        AF = mult_dc(A, F)\n",
    "        BH = mult_dc(B, H)\n",
    "        CE = mult_dc(C, E)\n",
    "        DG = mult_dc(D, G)\n",
    "        CF = mult_dc(C, F)\n",
    "        DH = mult_dc(D, H)\n",
    "        return [\n",
    "            None\n",
    "            # TODO: Concat these\n",
    "            #add_matrices(AE, BG)  add_matrices(AF, BH), \n",
    "            #add_matrices(CE, DG) + add_matrices(CF, DH)\n",
    "        ] "
   ]
  },
  {
   "cell_type": "code",
   "execution_count": 90,
   "metadata": {},
   "outputs": [
    {
     "data": {
      "text/plain": [
       "[[2]]"
      ]
     },
     "execution_count": 90,
     "metadata": {},
     "output_type": "execute_result"
    }
   ],
   "source": [
    "mult_dc([[1]], [[2]])"
   ]
  },
  {
   "cell_type": "code",
   "execution_count": null,
   "metadata": {
    "collapsed": true
   },
   "outputs": [],
   "source": []
  }
 ],
 "metadata": {
  "kernelspec": {
   "display_name": "Python 3",
   "language": "python",
   "name": "python3"
  },
  "language_info": {
   "codemirror_mode": {
    "name": "ipython",
    "version": 3
   },
   "file_extension": ".py",
   "mimetype": "text/x-python",
   "name": "python",
   "nbconvert_exporter": "python",
   "pygments_lexer": "ipython3",
   "version": "3.6.1"
  }
 },
 "nbformat": 4,
 "nbformat_minor": 2
}

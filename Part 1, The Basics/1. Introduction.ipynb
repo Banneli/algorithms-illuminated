{
 "cells": [
  {
   "cell_type": "markdown",
   "metadata": {},
   "source": [
    "## Introduction\n",
    "\n",
    "While writing this notebook I will be reading the first chapter of the book and wold summarize some programming assignments, the algorithms, extra challenge problems that I attempt and the math behind the analysis of the algorithms explained.\n",
    "\n",
    "---\n",
    " We will start by looking at the Integer Multiplication problem. \n",
    " \n",
    "To multiply two numbers we need to have the following primitive operations\n",
    "\n",
    "- Add two single digit numbers\n",
    "- Multiply two single-digit numbers\n",
    "- Append of prepend a 0 to a number\n",
    "\n",
    "Following image shows how perform the following multiplication $5678 \\times 1234$\n",
    " \n",
    " ![Multiply](ConventionalMultiplication.png)\n",
    " \n",
    " Let us now analyze the total number of operations for multiplying two n digit numbers\n",
    " \n",
    " A partial product involves multiplying 1 digit of an n digit number with another n digit. Each multiplication involves atmost $2n$ operations where we have n multiplications for an n digit number and then an addition if a carry is generated from the previous multiplication operation.  Essentially we have $n \\times 2n$ operations giving is $2n^2$ multiply operations for multiplying two n digit numbers.\n",
    " \n",
    " We still are left with adding up these partial products. We have n rows of these partial sums and each of these n rows can have a carry giving us a maximum of 2n operations per row and thus adding up all partial sums gives is $n \\times 2n = 2n^2$ operations\n",
    " \n",
    " Thus the conventional multiplication takes $2n^2 + 2n^2 = 4n^2$ operations. Or, more generally the number of operations for performing multiplication of two n digit numbers is $Cn^ 2$ operations. Thus the work increases quadratically with the number of digits in the the number.\n",
    " \n",
    " ---\n",
    " \n",
    " ***Can we do better than $n^2$ complexity?***\n",
    " \n",
    " Let us look at an alternate way to multiply two numbers known as *Karatsuba Multiplication*. We will us ethe same two numbers 5678 and 1234 and see Karatsuba Multiplication in action.\n",
    " \n",
    " - Break up these two 4 digit numbers into halfs, thus we get 4 smaller numbers of 2 digits each. We call them a, b, c and d. Thus for the above example, 5678 will be split in two numbers 56 and 78 and we call them a and b respectively. Similarly, 1234 will be split into c and d with values 12 and 34 respectively.\n",
    " - Compute $a \\times c$ which is $56 \\times 12 = 672$\n",
    " - Compute $b \\times d$ which is $78 \\times 34 = 2652$\n",
    " - Compute $(a + b) \\times (c + d)$ which is $(56 + 78) \\times (12 + 34) = 6164$\n",
    " - Subtract the first two results from the third, thus we get $6164 - 672 - 2652 = 2840$\n",
    " - Compute $10^4 \\times 672 + 10^2 \\times  2840 + 2652 = 7006652$\n",
    " \n",
    " The above result is exactly same as the one we got using the conventional method.\n",
    " \n",
    " ---\n",
    " \n",
    " Before we implement the Karatsuba multiplication, let us implement a recursive approach to multiply two numbers.\n",
    " Let the two number be n digit numbers x and y, to keep the initial implementation simple, we assume both the numbers are n digits but can easily be extended to two numbers of different number of digits.\n",
    " \n",
    " \n",
    "Let x and y be split into two $n/2$ digit numbers a, b and c,d respectively.\n",
    "\n",
    "Thus \n",
    "$x = 10^{n/2}.a + b$ and $y = 10^ {n/2}.c + d$\n",
    "\n",
    "$x.y = (10^ {n/2}.a + b) \\times (10^ {n/2}.c + d) = 10^n.ab + 10^{n/2}.(a.d + b.c) + b.d $\n",
    " \n",
    " \n",
    "Following code snippet ``rec_int_mult`` implements this recursive multiplication of two numbers. But first we will be defining a simple function which will take a number and pad it with leading 0 so that the length of the number if a power of 2 for simplicity in recursion"
   ]
  },
  {
   "cell_type": "code",
   "execution_count": 1,
   "metadata": {
    "collapsed": true
   },
   "outputs": [],
   "source": [
    "def pad_len_for_pow_2(num, min_len = None):\n",
    "    inc_len = 1\n",
    "    current_len = len(num)\n",
    "    target_len = current_len if min_len is None else max(min_len, current_len)\n",
    "    \n",
    "    while inc_len < target_len:\n",
    "        inc_len  = inc_len << 1\n",
    "    \n",
    "    if inc_len - current_len > 0:\n",
    "        return '0' * (inc_len - current_len) + num\n",
    "    else:\n",
    "        return num\n",
    "    \n",
    "def prepare_inputs(in1, in2):\n",
    "    max_len = max(len(in1), len(in2))\n",
    "    return pad_len_for_pow_2(in1, max_len), pad_len_for_pow_2(in2, max_len)"
   ]
  },
  {
   "cell_type": "code",
   "execution_count": 2,
   "metadata": {
    "collapsed": true
   },
   "outputs": [],
   "source": [
    "def rec_int_mult(x, y):\n",
    "    if len(x) == 1 and len(y) == 1:\n",
    "        return int(x) * int(y)\n",
    "    \n",
    "    split = len(x) // 2\n",
    "    a, b = x[0:split], x[split:]\n",
    "    c, d = y[0:split], y[split:]\n",
    "    # We cheat a bit here by multiplying by powers of 10 which can be implemented purely as addition\n",
    "    return (10 ** len(x)) * rec_int_mult(a, c) + \\\n",
    "            (10 ** split) * (rec_int_mult(a, d) +\\\n",
    "                             rec_int_mult(b, c)) + rec_int_mult(b, d)"
   ]
  },
  {
   "cell_type": "code",
   "execution_count": 3,
   "metadata": {},
   "outputs": [
    {
     "data": {
      "text/plain": [
       "7006652"
      ]
     },
     "execution_count": 3,
     "metadata": {},
     "output_type": "execute_result"
    }
   ],
   "source": [
    "in1, in2 = prepare_inputs('5678', '1234')\n",
    "rec_int_mult(in1, in2)"
   ]
  },
  {
   "cell_type": "markdown",
   "metadata": {},
   "source": [
    "\n",
    "The above code snippet involves performing 4 multiplications of smaller digit numbers. Gauss instead worked out a way to replace these 4 multiplications with 3 multiplications and some additions.\n",
    "\n",
    "Essentially $(a.d + b.c)$ be replaced with $(a + b).(c + d) - a.c - b.d$ thus reducing the multiplications to the following three multiplications\n",
    "\n",
    "- $a.c$\n",
    "- $b.d$\n",
    "- $(a + b).(c + d)$\n",
    "\n",
    "Essentially we reduce 4 recursive calls with 3 as seen in the following code snippet which is generic enough to accept numbers with not necessarily same number of digits"
   ]
  },
  {
   "cell_type": "code",
   "execution_count": 4,
   "metadata": {
    "collapsed": true
   },
   "outputs": [],
   "source": [
    "def karatsuba(x, y):\n",
    "    if len(x) == 1 and len(y) == 1:\n",
    "        return int(x) * int(y)\n",
    "    split = len(x) // 2\n",
    "    a, b = x[0:split], x[split:]\n",
    "    c, d = y[0:split], y[split:]\n",
    "    ac = karatsuba(a, c)\n",
    "    bd = karatsuba(b, d)\n",
    "    aplusb = str(int(a) + int(b))\n",
    "    cplusd = str(int(c) + int(d))\n",
    "    aplusb_times_cplusd  = karatsuba(*prepare_inputs(aplusb, cplusd))\n",
    "    return (10 ** len(x)) *  ac + (10 ** split) * (aplusb_times_cplusd - ac - bd) + bd\n",
    "    \n",
    "    "
   ]
  },
  {
   "cell_type": "code",
   "execution_count": 5,
   "metadata": {},
   "outputs": [
    {
     "data": {
      "text/plain": [
       "7006652"
      ]
     },
     "execution_count": 5,
     "metadata": {},
     "output_type": "execute_result"
    }
   ],
   "source": [
    "in1, in2 = prepare_inputs('5678', '1234')\n",
    "karatsuba(in1, in2)"
   ]
  },
  {
   "cell_type": "markdown",
   "metadata": {},
   "source": [
    "\n",
    "The above result is same as the result we get from the conventional approach. \n",
    "Following two cells demonstrate execute the test case and the challenge problem given at [this](http://theory.stanford.edu/~tim/algorithmsilluminated.html) URL."
   ]
  },
  {
   "cell_type": "code",
   "execution_count": 6,
   "metadata": {},
   "outputs": [
    {
     "data": {
      "text/plain": [
       "999890001"
      ]
     },
     "execution_count": 6,
     "metadata": {},
     "output_type": "execute_result"
    }
   ],
   "source": [
    "in1, in2 = prepare_inputs('99999', '9999')\n",
    "karatsuba(in1, in2)"
   ]
  },
  {
   "cell_type": "code",
   "execution_count": 7,
   "metadata": {},
   "outputs": [
    {
     "data": {
      "text/plain": [
       "8539734222673567065463550869546574495034888535765114961879601127067743044893204848617875072216249073013374895871952806582723184"
      ]
     },
     "execution_count": 7,
     "metadata": {},
     "output_type": "execute_result"
    }
   ],
   "source": [
    "in1, in2 = prepare_inputs('3141592653589793238462643383279502884197169399375105820974944592',\n",
    "                            '2718281828459045235360287471352662497757247093699959574966967627')\n",
    "karatsuba(in1, in2)"
   ]
  },
  {
   "cell_type": "markdown",
   "metadata": {},
   "source": [
    "\n",
    "By exactly how much Karatsuba multiplication is better than the conventional approach and is the divide and conquer approach in ``rec_int_mult`` any better than the conventional approach? We will look at answering this later after we finish the $4^{th}$ chapter where we explore the Master Method.\n",
    "\n",
    "---\n",
    "\n",
    "## Merge Sort\n",
    "\n",
    "We will now analyse one of the most widely used and an efficient sorting algorithm, *Merge Sort*\n",
    "\n",
    "---\n",
    "\n",
    "Following implementation is an example of Insertion sort which requires 2 passes of the array giving it $O(n^2)$ complexity"
   ]
  },
  {
   "cell_type": "code",
   "execution_count": 8,
   "metadata": {
    "collapsed": true
   },
   "outputs": [],
   "source": [
    "def insertion(inp):\n",
    "    res = [inp[i] for i in range(len(inp))]\n",
    "    for i in range(len(res)):\n",
    "        for j in range(i + 1, len(res)):\n",
    "            if res[j] < res[i]:\n",
    "                t = res[i]\n",
    "                res[i] = res[j]\n",
    "                res[j] = t                \n",
    "            \n",
    "    return res"
   ]
  },
  {
   "cell_type": "code",
   "execution_count": 9,
   "metadata": {},
   "outputs": [
    {
     "data": {
      "text/plain": [
       "[1, 2, 3, 4, 5, 6, 7, 8, 9]"
      ]
     },
     "execution_count": 9,
     "metadata": {},
     "output_type": "execute_result"
    }
   ],
   "source": [
    "insertion([9, 7, 1, 2, 4, 6, 3, 8, 5])"
   ]
  },
  {
   "cell_type": "markdown",
   "metadata": {},
   "source": [
    "\n",
    "Quadratic time is not desirable for large arrays and we would ideally want to have an algorithm which have complexity between $O(n)$ and $O(n^2)$.\n",
    "\n",
    "With this goal in mind, let us see what merge sort does and then later derive it's time complexity.\n",
    "\n",
    "The following picture shows how merge sort works\n",
    "\n",
    "![MergeSort](MergeSortIllustration.png)\n",
    "\n",
    "Following three operations is what we have in Merge Sort\n",
    "\n",
    "- Split the input array in two, this is usually done by finding the middle index of the input array\n",
    "- Recursively call sort on these two splits, this operation should return us two sorted arrays\n",
    "- Merge the two sorted arrays in one array which would be sorted.\n",
    "\n",
    "\n",
    "In the following code snippet we will implement merge sort. To keep the code simple and readable, we will not be making it efficient in terms of space. That is, we can allocate the entire array upfront and have the subproblems update a part of this preinitialized array."
   ]
  },
  {
   "cell_type": "code",
   "execution_count": 10,
   "metadata": {
    "collapsed": true
   },
   "outputs": [],
   "source": [
    "def merge(sorted1, sorted2):\n",
    "    # Merges the two sorted arrays into one sorted array in linear time\n",
    "    res = []\n",
    "    i = 0\n",
    "    j = 0    \n",
    "    for k in range(len(sorted1) + len(sorted2)):        \n",
    "        if i == len(sorted1):\n",
    "            res = res + [sorted2[ind] for ind in range(j, len(sorted2))]\n",
    "            break\n",
    "        if j == len(sorted2):\n",
    "            res = res + [sorted1[ind] for ind in range(i, len(sorted1))]\n",
    "            break\n",
    "        \n",
    "        if sorted1[i] < sorted2[j]:\n",
    "            res.append(sorted1[i])\n",
    "            i += 1\n",
    "        else:\n",
    "            res.append(sorted2[j])\n",
    "            j += 1\n",
    "    \n",
    "    return res\n",
    "\n",
    "def mergesort(inarray):\n",
    "    if len(inarray) <= 1:\n",
    "        return inarray\n",
    "    \n",
    "    mid = len(inarray) // 2\n",
    "    l = mergesort(inarray[:mid])\n",
    "    r = mergesort(inarray[mid:])\n",
    "    return merge(l, r)"
   ]
  },
  {
   "cell_type": "code",
   "execution_count": 11,
   "metadata": {},
   "outputs": [
    {
     "data": {
      "text/plain": [
       "[1, 2, 3, 4, 5, 6, 7, 8, 9]"
      ]
     },
     "execution_count": 11,
     "metadata": {},
     "output_type": "execute_result"
    }
   ],
   "source": [
    "mergesort([9, 7, 1, 2, 4, 6, 3, 8, 5])"
   ]
  },
  {
   "cell_type": "markdown",
   "metadata": {},
   "source": [
    "\n",
    "Again, as mentioned previously the above implementation is not efficient in terms of space as each recursive call generates a new list which is then discarted. Nevertheless it is succinct and is a good translation of the pseudocode to a working code.\n",
    "\n",
    "We are more interested in the running time complexity of the Merge sort which we will analyze now. Following is the psuedo code for the merge operation we implemented above\n",
    "\n",
    "![MergePseudocode](MergePseudocode.png)\n",
    "\n",
    "We see there are 2 operations for initilizing the variables i and j, and then the loop that runs n times.\n",
    "In the loop we peform the following\n",
    "\n",
    "- Comparison C[i] < D[j] \n",
    "- Assignment B[k] := C[i]  or B[k] := D[j]\n",
    "- Increment of variable i or j\n",
    "- Increment of loop variable k\n",
    "\n",
    "This we have a total of $4n + 2$ operations. We will make this a total of $6n$ since $6n > 4n + 2$\n",
    "\n",
    "The number $6n$ is just an estimate and doesn't really consider a programming language's implementation. For example, the Python implementation of merge we have is strkingly similar to the the merge pseudo code and also implements some edge cases when all elements of one of the array are copied over. For the sake of analysis $6n$ is a reasonable estimate.\n",
    "\n",
    "We thus have the following Lemma\n",
    "\n",
    "*For a pair of sorted input array of size $l/2$, merge function will merge them in one sorted list in no more than $6l$ operations*\n",
    "\n",
    "Now that we have an upper bound on the running time of Merge, let us see how many operations are required for entire merge sort call.\n",
    "\n",
    "Following is the theorem we are looking to prove\n",
    "\n",
    "*Merge sort algoritm runs in at most $6nlog_2{x} + 6n$ operations for an input of size n*\n",
    "\n",
    "Following plots a linear and a log function for comparison (we imagine how huge the gains are by reducing the complexiti from polinomial to logarithmic). "
   ]
  },
  {
   "cell_type": "code",
   "execution_count": 12,
   "metadata": {},
   "outputs": [
    {
     "data": {
      "image/png": "[encoded data removed]",
      "text/plain": [
       "<matplotlib.figure.Figure at 0x7f980f0cc748>"
      ]
     },
     "metadata": {},
     "output_type": "display_data"
    }
   ],
   "source": [
    "%matplotlib inline\n",
    "import matplotlib.pyplot as plt\n",
    "import numpy as np\n",
    "x = [x for x in range(1, 40)]\n",
    "logx = [np.log2(n) for n in x] \n",
    "plt.plot(x, x, label = 'f(n) = n')\n",
    "plt.plot(x, logx, label = 'f(n) = log n')\n",
    "plt.legend()\n",
    "plt.show()"
   ]
  },
  {
   "cell_type": "markdown",
   "metadata": {},
   "source": [
    "---\n",
    "\n",
    "We will prove the claim of the above theorem that merge sort runs in  $6nlog_2n + 6n$ time \n",
    "\n",
    "- Given an input of size n, we split it in two portions and call them the left and the right portion of the input array. We recursively do the same till we reach the leaves where we have 1 element each and no further splitting of the input can be done. With this splitting we end up getting $log_2n$ levels of the tree.\n",
    "- At each level we double the number of subproblems we have on the previous level. At root level we have 1 problem, at level 1 we have 2 problems, at level 2 we have 4 subproblems and so on. Generalizing this we see that at level j we have $2^n$ subproblems.\n",
    "- Similarly at each level, we split the input in two parts and call the the sort function recursively on these two halfs. For example, suppose at level 0(root) we have 8 inputs values. Then at level 1 we have all inputs presented with an input of size 4, at level 2 each subproblem is presented with an input of size 2 and finally at level 3 each subproblem is presented with an input of size 1. Thus generalizing this, we see that at each level the size of the input presented to a subproblem at level j is $n / 2^j$\n",
    "\n",
    "We have seen earlier that for an input of size l, the work done by l is no more than than $6l$. Thus for an input of size $n/2^j$, the work done in merging it is $6n/2^j$.\n",
    "\n",
    "If we simply focus on a level j of this recursive call tree (ignoring the recursive calls at level j). Then the total work done **at** level j is \n",
    "\n",
    "*#number of subproblems at level j* $\\times$ *work done on input to level j subproblem* which is \n",
    "\n",
    "$2^n \\times 6n/2^n = 6n$\n",
    "\n",
    "This shows that irrespective of the level, the work done at level n is $6n$. This is due to the fact that the number of subproblems grow at the same rate at which the input to these sub problems shrink cancelling out each other.\n",
    "\n",
    "For an input of size n we have $log_2n + 1$ levels. Thus the total work done by the merge sort to sort an input of size n is $6n \\times (log_2n + 1) = 6nlog_2n + 6n$ proving our claim in the theorem.\n",
    "\n",
    "---\n",
    "\n",
    "### Guiding principles in the analysis of the algorithms\n",
    "\n",
    "#### Principle #1,  Worst-Case Analysis\n",
    "\n",
    "For the above problem of merge sort, the worst case time complexity is $6nlog_2n + 6n$. Which essentially says that no matter what, for any possible input (in the domain of the valid acceptable inputs by the function), the complexity stated is what we can expect. Other approaches like *average-case analysis* assumes some most common inputs from the distribution of the possible inputs we expect to see and then give a complexity. Some other approach would be to benchmark the running time of the algorithm on a dataset which is the representative of the real world problems. In case of average-case analysis and running time analysis, we require domain knowledge where as in case of worst case we don't make any assumptions on the possible inputs.\n",
    "\n",
    "#### Principle #2, Big-Picture Analysis\n",
    "We will be ignoring the constants and the lower order terms of the number of operations taken to execute the algorithm for an input of size n. There are few reasons for that\n",
    "\n",
    "- It makes it easier for mathematical analysis\n",
    "- Constants heavily depend on the environment. For example, the complexity of 6n for the merge operation seems reasonable in Pusedo code, but not really convincing when we look at the Python implementation of ``merge``\n",
    "- We lose little predictive power. The constants and lower order complexity might be necessary for problems where its absolutely necessary for perform the analysis of the performance to the very fine details of the code, but for the big picture it is not necessary.\n",
    "\n",
    "#### Principle #3, Asymptotic Analysis\n",
    "This principle focuses on the growth rate of the algorithm with increase in size of the input. For example, the complexity of merge sort is $6nlog_2n + 6n$ and suppose another sorting algorithm has a complexity of $n^2 / 2$, the algorithm with quadaratic complexity will be faster than merge sort for smaller inputs. However when we analyse the complexity, it will be be large inputs as that is where the performance of the algorithms count. For an input of size 1000 or so, any sorting algorithm will give results quickly on modern computers. Following plot shows is the comparison of the above mentioned equations.\n",
    "\n"
   ]
  },
  {
   "cell_type": "code",
   "execution_count": 13,
   "metadata": {},
   "outputs": [
    {
     "data": {
      "image/png": "[encoded data removed]",
      "text/plain": [
       "<matplotlib.figure.Figure at 0x7f980c9fc630>"
      ]
     },
     "metadata": {},
     "output_type": "display_data"
    }
   ],
   "source": [
    "f, (ax1, ax2) = plt.subplots(nrows = 1, ncols = 2, figsize = (20, 4))\n",
    "x = [a for a in range(1, 1500)]\n",
    "xquad = [a * a / 2 for a in x]\n",
    "xlog = [6 * l * np.log2(l) + (6 * l) for l in x]\n",
    "ax1.plot(x[1:150], xquad[1:150], label = 'f(n)=n*n/2')\n",
    "ax1.plot(x[1:150], xlog[1:150], label = 'f(n)=6nlog n + 6n')\n",
    "ax1.legend()\n",
    "ax1.set_title('For small values of n')\n",
    "ax2.plot(x, xquad, label = 'f(n)=n*n/2')\n",
    "ax2.plot(x, xlog, label = 'f(n)=6nlog n + 6n')\n",
    "ax2.legend()\n",
    "ax2.set_title('For large values of n')\n",
    "plt.show()"
   ]
  },
  {
   "cell_type": "markdown",
   "metadata": {},
   "source": [
    "---\n",
    "\n",
    "### Test Your Understanding\n",
    "\n",
    "Following is correct to the best of my understanding to the problems and not necessarily correct.\n",
    "\n",
    "**Problem 1.1:** Suppose we run MergeSort on the following input, 5 3 8 9 1 7 0 2 6 4, after the two outermost recursive calls before the merge step, the two arrays glued together would be 1 3 5 8 9 0 2 4 6 7, thus the seventh element would be 2\n",
    "\n",
    "**Problem 1.2:** A Modification to merge sort for splitting the input in three (3 way merge sort) will give us the complexity $nlog_3n$ complexity of more generally $nlogn$ complexity. We saw the merge is independent of the level as long as the sub problems grows at the same rate as the input shrinks. The number of levels in case of 3 way merge sort is $log_3n + 1$ levels.\n",
    "\n",
    "**Problem 1.3:** We have k arrays of size n. Lets say k is 4, then for the first call of merge we have merge calls on array of size n, on second call we have array of size 2n and n and on third and final call we have array of size 3n and n. The complexity is $n + 2n + 3n =n(1 + 2 + 3) = nk(k - 1) / 2 \\approx nk^2$\n",
    "\n",
    "**Problem 1.4:** The total input size we have is nk. Going by the proof of Merge sort. If we split the arrays in 2 k/2 arrays of size n and recursively call merge on two sub groups, the effort to merge these segments of size n at each level is nk. We have a total of $\\approx log_2k$ levels thus the complexity is $nklog_2k$\n",
    "\n",
    "**Problem 1.5:** Find $2^{nd}$ largest element with no more than $n + log_2n - 2$ comparisons. See the code below for an implementation.\n",
    "\n",
    "**Problem 1.6:** Already implemented in the notebook earlier.\n"
   ]
  },
  {
   "cell_type": "code",
   "execution_count": 14,
   "metadata": {
    "collapsed": true
   },
   "outputs": [],
   "source": [
    "#Assumptions are that the length of the array is > 0 and a power of 2. The code can easily be modified to \n",
    "#support arrays of arbitrary length\n",
    "def find2ndlargest(array):\n",
    "    #Returns the index of largest and second largest as a tuple \n",
    "    if len(array) == 2:\n",
    "        return (1, 0) if array[1] > array[0] else (0, 1) \n",
    "        \n",
    "    #form an array of half size of input by comparing consecutive\n",
    "    #large numbers and recursing on the remaining\n",
    "    #Use left and right bit shift to multiply and divide by 2 respectively\n",
    "    #Using thus trick, we only compare half the number of comparisons as the length of the input array\n",
    "    #in each recursive call\n",
    "    \n",
    "    new_arr = [0] * (len(array) >> 1)\n",
    "    for i in range(0, len(new_arr)):\n",
    "        ix1, ix2 = i << 1, (i << 1) +1        \n",
    "        new_arr[i] = array[ix1] if array[ix1] > array[ix2] else array[ix2]\n",
    "    \n",
    "    largest, runner_up = find2ndlargest(new_arr)\n",
    "    idx = largest << 1\n",
    "    largest = idx if array[idx] > array[idx + 1] else idx + 1\n",
    "    idx = runner_up << 1\n",
    "    runner_up = idx if array[idx] > array[idx + 1] else idx + 1\n",
    "    \n",
    "    #At this point, runner up contains number greater than all except the largest and \n",
    "    #possibly the neighbor of largest, this is one check we will make before returning the \n",
    "    #top two\n",
    "    \n",
    "    neighbor_idx = largest - 1 if largest & 1 else largest + 1 \n",
    "     \n",
    "    return largest, runner_up if array[runner_up] > array[neighbor_idx] else neighbor_idx"
   ]
  },
  {
   "cell_type": "code",
   "execution_count": 15,
   "metadata": {},
   "outputs": [
    {
     "name": "stdout",
     "output_type": "stream",
     "text": [
      "Second largest number is 7\n",
      "Second largest number is 7\n",
      "Second largest number is 7\n",
      "Second largest number is 7\n"
     ]
    }
   ],
   "source": [
    "in_array = [7, 1, 2, 4, 6, 3, 8, 5]\n",
    "_, runnerup_idx = find2ndlargest(in_array)   \n",
    "print('Second largest number is ' + str(in_array[runnerup_idx]))\n",
    "\n",
    "in_array = [7, 5, 1, 2, 3, 4, 6, 8]\n",
    "_, runnerup_idx = find2ndlargest(in_array)   \n",
    "print('Second largest number is ' + str(in_array[runnerup_idx]))\n",
    "\n",
    "in_array = [1, 2, 3, 4, 5, 6, 7, 8]\n",
    "_, runnerup_idx = find2ndlargest(in_array)   \n",
    "print('Second largest number is ' + str(in_array[runnerup_idx]))   \n",
    "\n",
    "in_array = [6, 1, 2, 4, 3, 7, 8, 5]\n",
    "_, runnerup_idx = find2ndlargest(in_array)   \n",
    "print('Second largest number is ' + str(in_array[runnerup_idx]))"
   ]
  },
  {
   "cell_type": "markdown",
   "metadata": {},
   "source": [
    "Thanks to Nathan Nard for pointing out the issue in my code, I have changing my implementation for ``find2ndlargest`` which now works (Hopefully)\n"
   ]
  },
  {
   "cell_type": "markdown",
   "metadata": {
    "collapsed": true
   },
   "source": [
    "TODO: Give correctness proof for the merge and merge sort"
   ]
  },
  {
   "cell_type": "code",
   "execution_count": null,
   "metadata": {
    "collapsed": true
   },
   "outputs": [],
   "source": []
  }
 ],
 "metadata": {
  "kernelspec": {
   "display_name": "Python 3",
   "language": "python",
   "name": "python3"
  },
  "language_info": {
   "codemirror_mode": {
    "name": "ipython",
    "version": 3
   },
   "file_extension": ".py",
   "mimetype": "text/x-python",
   "name": "python",
   "nbconvert_exporter": "python",
   "pygments_lexer": "ipython3",
   "version": "3.5.2"
  }
 },
 "nbformat": 4,
 "nbformat_minor": 2
}
